{
 "cells": [
  {
   "cell_type": "code",
   "execution_count": 18,
   "metadata": {},
   "outputs": [],
   "source": [
    "from pydap.client import open_url\n",
    "import os\n",
    "from pydap.client import open_url\n",
    "import xarray as xr\n",
    "import datetime\n",
    "from datetime import timedelta, date\n",
    "import netCDF4 as nc"
   ]
  },
  {
   "cell_type": "code",
   "execution_count": 23,
   "metadata": {},
   "outputs": [],
   "source": [
    "from helper_functions import *"
   ]
  },
  {
   "cell_type": "code",
   "execution_count": 2,
   "metadata": {},
   "outputs": [
    {
     "name": "stdout",
     "output_type": "stream",
     "text": [
      "https://safaris-tds.cipm.info/thredds/dodsC/prismrh/2020/PRISM_rh_20201231.nc\n",
      "<DatasetType with children 'lon_2', 'lat_2', 'crs', 'rh'>\n"
     ]
    }
   ],
   "source": [
    "\n",
    "def fetch_data_for_day(year, month, day):\n",
    "    base_url = (\n",
    "        \"https://safaris-tds.cipm.info/thredds/dodsC/prismrh/{}/PRISM_rh_{}.nc\"\n",
    "    )\n",
    "    date_str = f\"{year:04d}{month:02d}{day:02d}\"\n",
    "    url = base_url.format(year, date_str)\n",
    "    print(url)\n",
    "    dataset = open_url(url)\n",
    "    return dataset\n",
    "\n",
    "\n",
    "# Example usage for December 31, 2020\n",
    "data = fetch_data_for_day(2020, 12, 31)\n",
    "print(data)"
   ]
  },
  {
   "cell_type": "code",
   "execution_count": null,
   "metadata": {},
   "outputs": [],
   "source": []
  },
  {
   "cell_type": "code",
   "execution_count": null,
   "metadata": {},
   "outputs": [],
   "source": []
  },
  {
   "cell_type": "code",
   "execution_count": 3,
   "metadata": {},
   "outputs": [
    {
     "data": {
      "text/plain": [
       "datetime.date(2020, 12, 31)"
      ]
     },
     "execution_count": 3,
     "metadata": {},
     "output_type": "execute_result"
    }
   ],
   "source": [
    "datetime.date(2020, 12, 31)"
   ]
  },
  {
   "cell_type": "code",
   "execution_count": 12,
   "metadata": {},
   "outputs": [
    {
     "name": "stderr",
     "output_type": "stream",
     "text": [
      "c:\\Users\\tworm\\AppData\\Local\\mambaforge\\envs\\fruitflypheno\\Lib\\site-packages\\xarray\\backends\\plugins.py:159: RuntimeWarning: 'scipy' fails while guessing\n",
      "  warnings.warn(f\"{engine!r} fails while guessing\", RuntimeWarning)\n"
     ]
    },
    {
     "name": "stdout",
     "output_type": "stream",
     "text": [
      "Saved data for 20200101 to data/test\\PRISM\\2020\\PRISM_combo_20200101.nc\n"
     ]
    },
    {
     "name": "stderr",
     "output_type": "stream",
     "text": [
      "c:\\Users\\tworm\\AppData\\Local\\mambaforge\\envs\\fruitflypheno\\Lib\\site-packages\\xarray\\backends\\plugins.py:159: RuntimeWarning: 'scipy' fails while guessing\n",
      "  warnings.warn(f\"{engine!r} fails while guessing\", RuntimeWarning)\n"
     ]
    },
    {
     "name": "stdout",
     "output_type": "stream",
     "text": [
      "Saved data for 20200102 to data/test\\PRISM\\2020\\PRISM_combo_20200102.nc\n"
     ]
    },
    {
     "name": "stderr",
     "output_type": "stream",
     "text": [
      "c:\\Users\\tworm\\AppData\\Local\\mambaforge\\envs\\fruitflypheno\\Lib\\site-packages\\xarray\\backends\\plugins.py:159: RuntimeWarning: 'scipy' fails while guessing\n",
      "  warnings.warn(f\"{engine!r} fails while guessing\", RuntimeWarning)\n"
     ]
    },
    {
     "name": "stdout",
     "output_type": "stream",
     "text": [
      "Saved data for 20200103 to data/test\\PRISM\\2020\\PRISM_combo_20200103.nc\n"
     ]
    },
    {
     "name": "stderr",
     "output_type": "stream",
     "text": [
      "c:\\Users\\tworm\\AppData\\Local\\mambaforge\\envs\\fruitflypheno\\Lib\\site-packages\\xarray\\backends\\plugins.py:159: RuntimeWarning: 'scipy' fails while guessing\n",
      "  warnings.warn(f\"{engine!r} fails while guessing\", RuntimeWarning)\n"
     ]
    },
    {
     "name": "stdout",
     "output_type": "stream",
     "text": [
      "Saved data for 20200104 to data/test\\PRISM\\2020\\PRISM_combo_20200104.nc\n"
     ]
    },
    {
     "name": "stderr",
     "output_type": "stream",
     "text": [
      "c:\\Users\\tworm\\AppData\\Local\\mambaforge\\envs\\fruitflypheno\\Lib\\site-packages\\xarray\\backends\\plugins.py:159: RuntimeWarning: 'scipy' fails while guessing\n",
      "  warnings.warn(f\"{engine!r} fails while guessing\", RuntimeWarning)\n"
     ]
    },
    {
     "name": "stdout",
     "output_type": "stream",
     "text": [
      "Saved data for 20200105 to data/test\\PRISM\\2020\\PRISM_combo_20200105.nc\n"
     ]
    }
   ],
   "source": [
    "def fetch_data_for_day(year, date):\n",
    "    # set base url to https://tds.climate.ncsu.edu/thredds/catalog/prism/daily/combo/2020/catalog.html\n",
    "\n",
    "    base_url = \"https://tds.climate.ncsu.edu/thredds/dodsC/prism/daily/combo/{}/PRISM_combo_{}.nc\"\n",
    "    #base_url = \"https://safaris-tds.cipm.info/thredds/dodsC/prismrh/{}/PRISM_rh_{}.nc\"\n",
    "\n",
    "    date_str = date.strftime(\"%Y%m%d\")\n",
    "\n",
    "    url = base_url.format(year, date_str)\n",
    "    dataset = open_url(url)\n",
    "    return url, dataset\n",
    "\n",
    "\n",
    "\n",
    "def fetch_and_save_data(year, start_day_of_year, end_day_of_year, base_save_dir):\n",
    "\n",
    "    save_dir = os.path.join(base_save_dir, \"PRISM\", str(year))\n",
    "\n",
    "    os.makedirs(save_dir, exist_ok=True)\n",
    "\n",
    "\n",
    "    start_date = date(year, 1, 1) + timedelta(days=start_day_of_year - 1)\n",
    "\n",
    "    end_date = date(year, 1, 1) + timedelta(days=end_day_of_year - 1)\n",
    "\n",
    "\n",
    "    current_date = start_date\n",
    "    #if file exists, skip\n",
    "\n",
    "    while current_date <= end_date:\n",
    "        url, dataset = fetch_data_for_day(year, current_date)\n",
    "\n",
    "\n",
    "        # Use xarray to save the data to a .nc file\n",
    "\n",
    "        ds = xr.open_dataset(url)\n",
    "\n",
    "        date_str = current_date.strftime(\"%Y%m%d\")\n",
    "\n",
    "        save_path = os.path.join(save_dir, f\"PRISM_combo_{date_str}.nc\")\n",
    "\n",
    "        ds.to_netcdf(save_path)\n",
    "\n",
    "        print(f\"Saved data for {date_str} to {save_path}\")\n",
    "\n",
    "\n",
    "        current_date += timedelta(days=1)\n",
    "\n",
    "\n",
    "\n",
    "# Fetch and save data for the first 5 days of 2020\n",
    "\n",
    "fetch_and_save_data(2020, 1, 5, \"data/test\")"
   ]
  },
  {
   "cell_type": "code",
   "execution_count": null,
   "metadata": {},
   "outputs": [],
   "source": []
  },
  {
   "cell_type": "code",
   "execution_count": null,
   "metadata": {},
   "outputs": [],
   "source": []
  },
  {
   "cell_type": "code",
   "execution_count": 17,
   "metadata": {},
   "outputs": [
    {
     "ename": "AttributeError",
     "evalue": "'tuple' object has no attribute 'tmean'",
     "output_type": "error",
     "traceback": [
      "\u001b[1;31m---------------------------------------------------------------------------\u001b[0m",
      "\u001b[1;31mAttributeError\u001b[0m                            Traceback (most recent call last)",
      "Cell \u001b[1;32mIn[17], line 2\u001b[0m\n\u001b[0;32m      1\u001b[0m \u001b[38;5;66;03m#plot samp tmean\u001b[39;00m\n\u001b[1;32m----> 2\u001b[0m \u001b[43msamp\u001b[49m\u001b[38;5;241;43m.\u001b[39;49m\u001b[43mtmean\u001b[49m\u001b[38;5;241m.\u001b[39mplot()\n",
      "\u001b[1;31mAttributeError\u001b[0m: 'tuple' object has no attribute 'tmean'"
     ]
    }
   ],
   "source": [
    "#ataset = nc.Dataset(\"samp.nc\")\n",
    "\n",
    "# Print information about the dataset\n",
    "print(dataset)\n",
    "\n",
    "# Assuming 'temperature' is a variable in your NetCDF file\n",
    "# Change 'temperature', 'longitude', and 'latitude' to the actual variable names in your dataset\n",
    "temperature = samp.variables[\"temperature\"][:]\n",
    "lon = dataset.variables[\"longitude\"][:]\n",
    "lat = dataset.variables[\"latitude\"][:]\n",
    "\n",
    "# Create a meshgrid for plotting\n",
    "lon, lat = np.meshgrid(lon, lat)\n",
    "\n",
    "# Plot the temperature data\n",
    "plt.figure(figsize=(10, 6))\n",
    "plt.contourf(\n",
    "    lon, lat, temperature[0, :, :], cmap=\"viridis\"\n",
    ")  # Adjust index [0, :, :] as needed\n",
    "plt.colorbar(label=\"Temperature (°C)\")\n",
    "plt.xlabel(\"Longitude\")\n",
    "plt.ylabel(\"Latitude\")\n",
    "plt.title(\"Temperature Distribution\")\n",
    "plt.show()"
   ]
  },
  {
   "cell_type": "code",
   "execution_count": 24,
   "metadata": {},
   "outputs": [
    {
     "name": "stdout",
     "output_type": "stream",
     "text": [
      "Variable 'Tmax' not found in the dataset.\n"
     ]
    }
   ],
   "source": [
    "plot_netcdf(\"data/test/PRISM/2020/PRISM_combo_20200101.nc\", \"Tmax\")"
   ]
  },
  {
   "cell_type": "code",
   "execution_count": null,
   "metadata": {},
   "outputs": [],
   "source": []
  },
  {
   "cell_type": "code",
   "execution_count": null,
   "metadata": {},
   "outputs": [],
   "source": []
  },
  {
   "cell_type": "code",
   "execution_count": null,
   "metadata": {},
   "outputs": [],
   "source": []
  },
  {
   "cell_type": "code",
   "execution_count": null,
   "metadata": {},
   "outputs": [],
   "source": []
  },
  {
   "cell_type": "code",
   "execution_count": null,
   "metadata": {},
   "outputs": [],
   "source": []
  },
  {
   "cell_type": "code",
   "execution_count": null,
   "metadata": {},
   "outputs": [],
   "source": []
  },
  {
   "cell_type": "code",
   "execution_count": null,
   "metadata": {},
   "outputs": [],
   "source": []
  },
  {
   "cell_type": "code",
   "execution_count": null,
   "metadata": {},
   "outputs": [],
   "source": []
  },
  {
   "cell_type": "code",
   "execution_count": null,
   "metadata": {},
   "outputs": [],
   "source": []
  },
  {
   "cell_type": "code",
   "execution_count": null,
   "metadata": {},
   "outputs": [],
   "source": []
  },
  {
   "cell_type": "code",
   "execution_count": null,
   "metadata": {},
   "outputs": [],
   "source": []
  },
  {
   "cell_type": "code",
   "execution_count": null,
   "metadata": {},
   "outputs": [],
   "source": []
  },
  {
   "cell_type": "code",
   "execution_count": null,
   "metadata": {},
   "outputs": [],
   "source": []
  },
  {
   "cell_type": "code",
   "execution_count": null,
   "metadata": {},
   "outputs": [],
   "source": []
  },
  {
   "cell_type": "code",
   "execution_count": null,
   "metadata": {},
   "outputs": [],
   "source": []
  },
  {
   "cell_type": "code",
   "execution_count": null,
   "metadata": {},
   "outputs": [],
   "source": []
  },
  {
   "cell_type": "code",
   "execution_count": null,
   "metadata": {},
   "outputs": [],
   "source": []
  },
  {
   "cell_type": "code",
   "execution_count": null,
   "metadata": {},
   "outputs": [],
   "source": []
  },
  {
   "cell_type": "code",
   "execution_count": null,
   "metadata": {},
   "outputs": [],
   "source": []
  },
  {
   "cell_type": "code",
   "execution_count": null,
   "metadata": {},
   "outputs": [],
   "source": []
  },
  {
   "cell_type": "code",
   "execution_count": null,
   "metadata": {},
   "outputs": [],
   "source": []
  },
  {
   "cell_type": "code",
   "execution_count": null,
   "metadata": {},
   "outputs": [],
   "source": []
  },
  {
   "cell_type": "code",
   "execution_count": null,
   "metadata": {},
   "outputs": [],
   "source": []
  },
  {
   "cell_type": "code",
   "execution_count": null,
   "metadata": {},
   "outputs": [],
   "source": []
  },
  {
   "cell_type": "code",
   "execution_count": null,
   "metadata": {},
   "outputs": [],
   "source": []
  },
  {
   "cell_type": "code",
   "execution_count": null,
   "metadata": {},
   "outputs": [],
   "source": []
  },
  {
   "cell_type": "code",
   "execution_count": null,
   "metadata": {},
   "outputs": [],
   "source": []
  },
  {
   "cell_type": "code",
   "execution_count": null,
   "metadata": {},
   "outputs": [],
   "source": []
  },
  {
   "cell_type": "code",
   "execution_count": null,
   "metadata": {},
   "outputs": [],
   "source": []
  },
  {
   "cell_type": "code",
   "execution_count": null,
   "metadata": {},
   "outputs": [],
   "source": []
  },
  {
   "cell_type": "code",
   "execution_count": null,
   "metadata": {},
   "outputs": [],
   "source": []
  },
  {
   "cell_type": "code",
   "execution_count": null,
   "metadata": {},
   "outputs": [],
   "source": []
  },
  {
   "cell_type": "code",
   "execution_count": null,
   "metadata": {},
   "outputs": [],
   "source": []
  },
  {
   "cell_type": "code",
   "execution_count": null,
   "metadata": {},
   "outputs": [],
   "source": []
  },
  {
   "cell_type": "code",
   "execution_count": null,
   "metadata": {},
   "outputs": [],
   "source": []
  },
  {
   "cell_type": "code",
   "execution_count": null,
   "metadata": {},
   "outputs": [],
   "source": []
  },
  {
   "cell_type": "code",
   "execution_count": null,
   "metadata": {},
   "outputs": [],
   "source": []
  },
  {
   "cell_type": "code",
   "execution_count": null,
   "metadata": {},
   "outputs": [],
   "source": []
  },
  {
   "cell_type": "code",
   "execution_count": null,
   "metadata": {},
   "outputs": [],
   "source": []
  },
  {
   "cell_type": "code",
   "execution_count": null,
   "metadata": {},
   "outputs": [],
   "source": []
  },
  {
   "cell_type": "code",
   "execution_count": null,
   "metadata": {},
   "outputs": [],
   "source": []
  },
  {
   "cell_type": "code",
   "execution_count": null,
   "metadata": {},
   "outputs": [],
   "source": []
  },
  {
   "cell_type": "code",
   "execution_count": null,
   "metadata": {},
   "outputs": [],
   "source": []
  },
  {
   "cell_type": "code",
   "execution_count": null,
   "metadata": {},
   "outputs": [],
   "source": []
  },
  {
   "cell_type": "code",
   "execution_count": null,
   "metadata": {},
   "outputs": [],
   "source": []
  },
  {
   "cell_type": "code",
   "execution_count": null,
   "metadata": {},
   "outputs": [],
   "source": []
  },
  {
   "cell_type": "code",
   "execution_count": null,
   "metadata": {},
   "outputs": [],
   "source": []
  },
  {
   "cell_type": "code",
   "execution_count": null,
   "metadata": {},
   "outputs": [],
   "source": []
  },
  {
   "cell_type": "code",
   "execution_count": null,
   "metadata": {},
   "outputs": [],
   "source": []
  },
  {
   "cell_type": "code",
   "execution_count": null,
   "metadata": {},
   "outputs": [],
   "source": []
  },
  {
   "cell_type": "code",
   "execution_count": null,
   "metadata": {},
   "outputs": [],
   "source": []
  },
  {
   "cell_type": "code",
   "execution_count": null,
   "metadata": {},
   "outputs": [],
   "source": []
  },
  {
   "cell_type": "code",
   "execution_count": null,
   "metadata": {},
   "outputs": [],
   "source": []
  },
  {
   "cell_type": "code",
   "execution_count": 14,
   "metadata": {},
   "outputs": [
    {
     "data": {
      "text/plain": [
       "('https://tds.climate.ncsu.edu/thredds/dodsC/prism/daily/combo/2020/PRISM_combo_20201231.nc',\n",
       " <DatasetType with children 't', 'ppt', 'tmean', 'tmin', 'tmax', 'longitude', 'latitude'>)"
      ]
     },
     "execution_count": 14,
     "metadata": {},
     "output_type": "execute_result"
    }
   ],
   "source": [
    "samp"
   ]
  }
 ],
 "metadata": {
  "kernelspec": {
   "display_name": "Python 3",
   "language": "python",
   "name": "python3"
  },
  "language_info": {
   "codemirror_mode": {
    "name": "ipython",
    "version": 3
   },
   "file_extension": ".py",
   "mimetype": "text/x-python",
   "name": "python",
   "nbconvert_exporter": "python",
   "pygments_lexer": "ipython3",
   "version": "3.12.4"
  }
 },
 "nbformat": 4,
 "nbformat_minor": 2
}
