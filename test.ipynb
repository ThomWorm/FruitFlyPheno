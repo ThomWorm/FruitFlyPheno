{
 "cells": [
  {
   "cell_type": "code",
   "execution_count": 54,
   "metadata": {},
   "outputs": [],
   "source": [
    "from pydap.client import open_url\n",
    "import os\n",
    "from pydap.client import open_url\n",
    "import xarray as xr\n",
    "import datetime\n",
    "from datetime import timedelta, date"
   ]
  },
  {
   "cell_type": "code",
   "execution_count": 33,
   "metadata": {},
   "outputs": [
    {
     "name": "stdout",
     "output_type": "stream",
     "text": [
      "https://safaris-tds.cipm.info/thredds/dodsC/prismrh/2020/PRISM_rh_20201231.nc\n",
      "<DatasetType with children 'lon_2', 'lat_2', 'crs', 'rh'>\n"
     ]
    }
   ],
   "source": [
    "\n",
    "def fetch_data_for_day(year, month, day):\n",
    "    base_url = (\n",
    "        \"https://safaris-tds.cipm.info/thredds/dodsC/prismrh/{}/PRISM_rh_{}.nc\"\n",
    "    )\n",
    "    date_str = f\"{year:04d}{month:02d}{day:02d}\"\n",
    "    url = base_url.format(year, date_str)\n",
    "    print(url)\n",
    "    dataset = open_url(url)\n",
    "    return dataset\n",
    "\n",
    "\n",
    "# Example usage for December 31, 2020\n",
    "data = fetch_data_for_day(2020, 12, 31)\n",
    "print(data)"
   ]
  },
  {
   "cell_type": "code",
   "execution_count": 46,
   "metadata": {},
   "outputs": [],
   "source": []
  },
  {
   "cell_type": "code",
   "execution_count": 47,
   "metadata": {},
   "outputs": [
    {
     "data": {
      "text/plain": [
       "('https://safaris-tds.cipm.info/thredds/dodsC/prismrh/2020/PRISM_rh_20201231.nc',\n",
       " <DatasetType with children 'lon_2', 'lat_2', 'crs', 'rh'>)"
      ]
     },
     "execution_count": 47,
     "metadata": {},
     "output_type": "execute_result"
    }
   ],
   "source": [
    "fetch_data_for_day(2020, datetime.date(2020, 12, 31))"
   ]
  },
  {
   "cell_type": "code",
   "execution_count": 48,
   "metadata": {},
   "outputs": [
    {
     "data": {
      "text/plain": [
       "datetime.date(2020, 12, 31)"
      ]
     },
     "execution_count": 48,
     "metadata": {},
     "output_type": "execute_result"
    }
   ],
   "source": [
    "datetime.date(2020, 12, 31)"
   ]
  },
  {
   "cell_type": "code",
   "execution_count": 56,
   "metadata": {},
   "outputs": [
    {
     "name": "stderr",
     "output_type": "stream",
     "text": [
      "c:\\Users\\tworm\\AppData\\Local\\mambaforge\\envs\\fruitflypheno\\Lib\\site-packages\\xarray\\backends\\plugins.py:159: RuntimeWarning: 'scipy' fails while guessing\n",
      "  warnings.warn(f\"{engine!r} fails while guessing\", RuntimeWarning)\n"
     ]
    },
    {
     "name": "stdout",
     "output_type": "stream",
     "text": [
      "Saved data for 20200101 to data/test\\PRISM\\2020\\PRISM_rh_20200101.nc\n"
     ]
    },
    {
     "name": "stderr",
     "output_type": "stream",
     "text": [
      "c:\\Users\\tworm\\AppData\\Local\\mambaforge\\envs\\fruitflypheno\\Lib\\site-packages\\xarray\\backends\\plugins.py:159: RuntimeWarning: 'scipy' fails while guessing\n",
      "  warnings.warn(f\"{engine!r} fails while guessing\", RuntimeWarning)\n"
     ]
    },
    {
     "name": "stdout",
     "output_type": "stream",
     "text": [
      "Saved data for 20200102 to data/test\\PRISM\\2020\\PRISM_rh_20200102.nc\n"
     ]
    },
    {
     "name": "stderr",
     "output_type": "stream",
     "text": [
      "c:\\Users\\tworm\\AppData\\Local\\mambaforge\\envs\\fruitflypheno\\Lib\\site-packages\\xarray\\backends\\plugins.py:159: RuntimeWarning: 'scipy' fails while guessing\n",
      "  warnings.warn(f\"{engine!r} fails while guessing\", RuntimeWarning)\n"
     ]
    },
    {
     "name": "stdout",
     "output_type": "stream",
     "text": [
      "Saved data for 20200103 to data/test\\PRISM\\2020\\PRISM_rh_20200103.nc\n"
     ]
    },
    {
     "name": "stderr",
     "output_type": "stream",
     "text": [
      "c:\\Users\\tworm\\AppData\\Local\\mambaforge\\envs\\fruitflypheno\\Lib\\site-packages\\xarray\\backends\\plugins.py:159: RuntimeWarning: 'scipy' fails while guessing\n",
      "  warnings.warn(f\"{engine!r} fails while guessing\", RuntimeWarning)\n"
     ]
    },
    {
     "name": "stdout",
     "output_type": "stream",
     "text": [
      "Saved data for 20200104 to data/test\\PRISM\\2020\\PRISM_rh_20200104.nc\n"
     ]
    },
    {
     "name": "stderr",
     "output_type": "stream",
     "text": [
      "c:\\Users\\tworm\\AppData\\Local\\mambaforge\\envs\\fruitflypheno\\Lib\\site-packages\\xarray\\backends\\plugins.py:159: RuntimeWarning: 'scipy' fails while guessing\n",
      "  warnings.warn(f\"{engine!r} fails while guessing\", RuntimeWarning)\n"
     ]
    },
    {
     "name": "stdout",
     "output_type": "stream",
     "text": [
      "Saved data for 20200105 to data/test\\PRISM\\2020\\PRISM_rh_20200105.nc\n"
     ]
    }
   ],
   "source": [
    "def fetch_data_for_day(year, date):\n",
    "    base_url = \"https://safaris-tds.cipm.info/thredds/dodsC/prismrh/{}/PRISM_rh_{}.nc\"\n",
    "    date_str = date.strftime(\"%Y%m%d\")\n",
    "    url = base_url.format(year, date_str)\n",
    "    dataset = open_url(url)\n",
    "    return url, dataset\n",
    "\n",
    "\n",
    "def fetch_and_save_data(year, start_day_of_year, end_day_of_year, base_save_dir):\n",
    "    save_dir = os.path.join(base_save_dir, \"PRISM\", str(year))\n",
    "    os.makedirs(save_dir, exist_ok=True)\n",
    "\n",
    "    start_date = date(year, 1, 1) + timedelta(days=start_day_of_year - 1)\n",
    "    end_date = date(year, 1, 1) + timedelta(days=end_day_of_year - 1)\n",
    "\n",
    "    current_date = start_date\n",
    "    while current_date <= end_date:\n",
    "        url, dataset = fetch_data_for_day(year, current_date)\n",
    "\n",
    "        # Use xarray to save the data to a .nc file\n",
    "        ds = xr.open_dataset(url)\n",
    "        date_str = current_date.strftime(\"%Y%m%d\")\n",
    "        save_path = os.path.join(save_dir, f\"PRISM_rh_{date_str}.nc\")\n",
    "        ds.to_netcdf(save_path)\n",
    "        print(f\"Saved data for {date_str} to {save_path}\")\n",
    "\n",
    "        current_date += timedelta(days=1)\n",
    "\n",
    "\n",
    "# Fetch and save data for the first 5 days of 2020\n",
    "fetch_and_save_data(2020, 1, 5, \"data/test\")"
   ]
  }
 ],
 "metadata": {
  "kernelspec": {
   "display_name": "Python 3",
   "language": "python",
   "name": "python3"
  },
  "language_info": {
   "codemirror_mode": {
    "name": "ipython",
    "version": 3
   },
   "file_extension": ".py",
   "mimetype": "text/x-python",
   "name": "python",
   "nbconvert_exporter": "python",
   "pygments_lexer": "ipython3",
   "version": "3.12.4"
  }
 },
 "nbformat": 4,
 "nbformat_minor": 2
}
