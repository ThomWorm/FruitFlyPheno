{
 "cells": [
  {
   "cell_type": "code",
   "execution_count": 14,
   "metadata": {},
   "outputs": [],
   "source": [
    "def create_extent(lat, lon, lat_distance=1, lon_distance=1):\n",
    "    southwest_lat = lat - lat_distance\n",
    "    southwest_lon = lon - lon_distance\n",
    "    northeast_lat = lat + lat_distance\n",
    "    northeast_lon = lon + lon_distance\n",
    "    extent = f\"{southwest_lat},{southwest_lon},{northeast_lat},{northeast_lon}\"\n",
    "    return extent, southwest_lat, southwest_lon, northeast_lat, northeast_lon"
   ]
  },
  {
   "cell_type": "code",
   "execution_count": 15,
   "metadata": {},
   "outputs": [
    {
     "name": "stdout",
     "output_type": "stream",
     "text": [
      "State FIPS: 06, County FIPS: 06037\n"
     ]
    }
   ],
   "source": [
    "import requests\n",
    "\n",
    "\n",
    "def get_fips_code(lat, lon):\n",
    "    \"\"\"\n",
    "    Get the FIPS code for state and county when provided coordinates.\n",
    "\n",
    "    Parameters:\n",
    "    lat (float): Latitude of the location.\n",
    "    lon (float): Longitude of the location.\n",
    "\n",
    "    Returns:\n",
    "    dict: A dictionary containing the state and county FIPS codes.\n",
    "    \"\"\"\n",
    "    url = \"https://geo.fcc.gov/api/census/block/find\"\n",
    "    params = {\"latitude\": lat, \"longitude\": lon, \"format\": \"json\"}\n",
    "\n",
    "    response = requests.get(url, params=params)\n",
    "    data = response.json()\n",
    "    if \"County\" in data and \"State\" in data:\n",
    "        fips_codes = {\n",
    "            \"state_fips\": data[\"State\"][\"FIPS\"],\n",
    "            \"county_fips\": data[\"County\"][\"FIPS\"],\n",
    "        }\n",
    "        return fips_codes\n",
    "    else:\n",
    "        raise ValueError(\"Could not retrieve FIPS codes for the provided coordinates.\")\n",
    "\n",
    "\n",
    "# Example usage\n",
    "coordinates = (34.05, -118.55)  # Example coordinates (latitude, longitude)\n",
    "fips_codes = get_fips_code(*coordinates)\n",
    "print(\n",
    "    f\"State FIPS: {fips_codes['state_fips']}, County FIPS: {fips_codes['county_fips']}\"\n",
    ")"
   ]
  },
  {
   "cell_type": "code",
   "execution_count": 18,
   "metadata": {},
   "outputs": [],
   "source": [
    "from geopy.distance import geodesic\n",
    "\n",
    "\n",
    "def get_nearest_noaa_weather_station_id(user_location, start_date, end_date):\n",
    "    # this function returns the nearest weather station id based on the user location\n",
    "    # for weather stations with data between start_date and end_date for stations with GHCND dataset temperature data\n",
    "    # user_location: tuple of latitude and longitude\n",
    "    # start_date: start date in the format 'YYYY-MM-DD'\n",
    "    # end_date: end date in the format 'YYYY-MM-DD'\n",
    "    # returns: nearest weather station id\n",
    "\n",
    "    #######################################################\n",
    "    # get nearest weather station based on fips for the county\n",
    "    #######################################################\n",
    "    fips_code = get_fips_code(*user_location)[\"county_fips\"]\n",
    "    stations_url = \"https://www.ncei.noaa.gov/cdo-web/api/v2/stations\"\n",
    "    #user_location = (34.05, -118.25)  # Example coordinates (latitude, longitude)\n",
    "\n",
    "    fips_code = get_fips_code(*user_location)[\"county_fips\"]\n",
    "    print(fips_code)\n",
    "    # ext, sw_lat, sw_lon, ne_lat, ne_lon = create_extent(user_location[0], user_location[1])\n",
    "    # Get NOAA stations metadata\n",
    "    stations_url = \"https://www.ncei.noaa.gov/cdo-web/api/v2/stations\"\n",
    "    headers = {\"token\": \"XeVRiGIYmbnDCzzMCnjWCioSDjUYZXPi\"}\n",
    "\n",
    "    params = {\n",
    "        \"locationid\": \"FIPS:\" + str(fips_code),\n",
    "        # ensure the stations have temperature data\n",
    "        \"datacategoryid\": \"TEMP\",\n",
    "        \"limit\": 500,  # Adjust as needed\n",
    "        # ensure the stations have temperature data\n",
    "        \"datasetid\": \"GHCND\",  # Daily Summaries\n",
    "        \"startdate\": start_date,\n",
    "        \"enddate\": end_date,\n",
    "        \"units\": \"metric\",\n",
    "    }\n",
    "\n",
    "    response = requests.get(stations_url, headers=headers, params=params)\n",
    "    stations = response.json()[\"results\"]\n",
    "    print(stations)\n",
    "    ##########################################################\n",
    "    # get nearest station based on distance from user location\n",
    "    ##########################################################\n",
    "    extent = create_extent(user_location[0], user_location[1])\n",
    "    params = {\n",
    "        \"extent\": extent,\n",
    "        # ensure the stations have temperature data\n",
    "        \"datacategoryid\": \"TEMP\",\n",
    "        \"limit\": 500,  # Adjust as needed\n",
    "        # ensure the stations have temperature data\n",
    "        \"datasetid\": \"GHCND\",  # Daily Summaries\n",
    "        \"startdate\": start_date,\n",
    "        \"enddate\": end_date,\n",
    "        \"units\": \"metric\",\n",
    "    }\n",
    "\n",
    "    response = requests.get(stations_url, headers=headers, params=params, timeout=10)\n",
    "    extent_stations = response.json()[\"results\"]\n",
    "    print('foo')\n",
    "    print(extent_stations)\n",
    "    stations = stations + extent_stations\n",
    "    # Calculate the distance to each station\n",
    "\n",
    "    # Calculate distances and sort by proximity\n",
    "    distances = []\n",
    "    for station in stations:\n",
    "        station_location = (station[\"latitude\"], station[\"longitude\"])\n",
    "        distance = geodesic(user_location, station_location).km\n",
    "        station_dict = {\n",
    "            \"id\": station[\"id\"],\n",
    "            \"name\": station[\"name\"],\n",
    "            \"elevation\": station[\"elevation\"],\n",
    "            \"location\": station_location,\n",
    "            \"distance\": distance,\n",
    "        }\n",
    "        distances.append(station_dict)\n",
    "\n",
    "    # Sort by distance and get the nearest 10 stations\n",
    "    # nearest_stations_fips = sorted(distances, key=lambda x: x[3])[:20]\n",
    "    distances = [i for n, i in enumerate(distances) if i not in distances[n + 1 :]]\n",
    "\n",
    "    nearest_stations = sorted(distances, key=lambda x: x[\"distance\"])[:20]\n",
    "    nearest_station = nearest_stations[0]\n",
    "    print(nearest_station)\n",
    "    print(\n",
    "        f\"Nearest Station ID: {nearest_station['id']}, Name: {nearest_station['name']}, Distance: {nearest_station['distance']:.2f} km\"\n",
    "    )\n",
    "\n",
    "    return nearest_stations"
   ]
  },
  {
   "cell_type": "code",
   "execution_count": 21,
   "metadata": {},
   "outputs": [
    {
     "name": "stdout",
     "output_type": "stream",
     "text": [
      "06001\n",
      "[{'elevation': 94.5, 'mindate': '1893-01-01', 'maxdate': '2024-04-30', 'latitude': 37.8744, 'name': 'BERKELEY, CA US', 'datacoverage': 0.9251, 'id': 'GHCND:USC00040693', 'elevationUnit': 'METERS', 'longitude': -122.2605}, {'elevation': 11.6, 'mindate': '1996-06-01', 'maxdate': '2025-02-08', 'latitude': 37.5422, 'name': 'FREMONT, CA US', 'datacoverage': 0.9772, 'id': 'GHCND:USC00043244', 'elevationUnit': 'METERS', 'longitude': -122.0158}, {'elevation': 161.2, 'mindate': '1903-01-01', 'maxdate': '2025-01-13', 'latitude': 37.68194, 'name': 'LIVERMORE, CA US', 'datacoverage': 0.9853, 'id': 'GHCND:USC00044997', 'elevationUnit': 'METERS', 'longitude': -121.75139}, {'elevation': 9.1, 'mindate': '1970-10-01', 'maxdate': '2025-02-08', 'latitude': 37.7983, 'name': 'OAKLAND MUSEUM, CA US', 'datacoverage': 0.9347, 'id': 'GHCND:USC00046336', 'elevationUnit': 'METERS', 'longitude': -122.2642}, {'elevation': 18.6, 'mindate': '1955-02-01', 'maxdate': '2025-02-08', 'latitude': 37.79589, 'name': 'TRACY PUMPING PLANT, CA US', 'datacoverage': 0.9855, 'id': 'GHCND:USC00049001', 'elevationUnit': 'METERS', 'longitude': -121.58319}, {'elevation': 120.1, 'mindate': '1948-07-01', 'maxdate': '2024-12-31', 'latitude': 37.7719, 'name': 'UPPER SAN LEANDRO FILTERS, CA US', 'datacoverage': 0.8924, 'id': 'GHCND:USC00049185', 'elevationUnit': 'METERS', 'longitude': -122.1675}, {'elevation': 374.9, 'mindate': '1997-05-29', 'maxdate': '2025-02-09', 'latitude': 37.5531, 'name': 'CALAVERAS ROAD CALIFORNIA, CA US', 'datacoverage': 0.9182, 'id': 'GHCND:USR0000CCLV', 'elevationUnit': 'METERS', 'longitude': -121.8439}, {'elevation': 333.8, 'mindate': '1992-08-24', 'maxdate': '2025-02-09', 'latitude': 37.7861, 'name': 'OAKLAND SOUTH CALIFORNIA, CA US', 'datacoverage': 0.9281, 'id': 'GHCND:USR0000COKS', 'elevationUnit': 'METERS', 'longitude': -122.1447}, {'elevation': 932.7, 'mindate': '1995-01-01', 'maxdate': '2025-02-09', 'latitude': 37.5019, 'name': 'ROSE PEAK CALIFORNIA, CA US', 'datacoverage': 0.9824, 'id': 'GHCND:USR0000CRSP', 'elevationUnit': 'METERS', 'longitude': -121.7355}, {'elevation': 1.5, 'mindate': '1948-01-01', 'maxdate': '2025-02-08', 'latitude': 37.7178, 'name': 'OAKLAND INTERNATIONAL AIRPORT, CA US', 'datacoverage': 0.7932, 'id': 'GHCND:USW00023230', 'elevationUnit': 'METERS', 'longitude': -122.23301}, {'elevation': 119.7, 'mindate': '1998-04-06', 'maxdate': '2025-02-08', 'latitude': 37.69309, 'name': 'LIVERMORE MUNICIPAL AIRPORT, CA US', 'datacoverage': 0.9992, 'id': 'GHCND:USW00023285', 'elevationUnit': 'METERS', 'longitude': -121.8149}, {'elevation': 9.6, 'mindate': '1998-09-19', 'maxdate': '2025-02-08', 'latitude': 37.65886, 'name': 'HAYWARD AIR TERMINAL, CA US', 'datacoverage': 0.9992, 'id': 'GHCND:USW00093228', 'elevationUnit': 'METERS', 'longitude': -122.12116}]\n",
      "foo\n",
      "[{'elevation': 132.6, 'mindate': '1972-12-02', 'maxdate': '2025-02-08', 'latitude': 37.08689, 'name': 'BEN LOMOND NUMBER 4, CA US', 'datacoverage': 0.9866, 'id': 'GHCND:USC00040673', 'elevationUnit': 'METERS', 'longitude': -122.08221}, {'elevation': 94.5, 'mindate': '1893-01-01', 'maxdate': '2024-04-30', 'latitude': 37.8744, 'name': 'BERKELEY, CA US', 'datacoverage': 0.9251, 'id': 'GHCND:USC00040693', 'elevationUnit': 'METERS', 'longitude': -122.2605}, {'elevation': 18.3, 'mindate': '1893-01-01', 'maxdate': '2025-02-08', 'latitude': 38.5349, 'name': 'DAVIS 2 WSW EXPERIMENTAL FARM, CA US', 'datacoverage': 0.9157, 'id': 'GHCND:USC00042294', 'elevationUnit': 'METERS', 'longitude': -121.7761}, {'elevation': 12.2, 'mindate': '1950-12-04', 'maxdate': '2025-01-31', 'latitude': 38.2736, 'name': 'FAIRFIELD, CA US', 'datacoverage': 0.9823, 'id': 'GHCND:USC00042934', 'elevationUnit': 'METERS', 'longitude': -122.0677}, {'elevation': 11.6, 'mindate': '1996-06-01', 'maxdate': '2025-02-08', 'latitude': 37.5422, 'name': 'FREMONT, CA US', 'datacoverage': 0.9772, 'id': 'GHCND:USC00043244', 'elevationUnit': 'METERS', 'longitude': -122.0158}, {'elevation': 59.1, 'mindate': '1906-03-01', 'maxdate': '2023-06-03', 'latitude': 37.003, 'name': 'GILROY, CA US', 'datacoverage': 0.5783, 'id': 'GHCND:USC00043417', 'elevationUnit': 'METERS', 'longitude': -121.5608}, {'elevation': 61, 'mindate': '1926-01-01', 'maxdate': '2024-12-31', 'latitude': 38.4305, 'name': 'GRATON, CA US', 'datacoverage': 0.994, 'id': 'GHCND:USC00043578', 'elevationUnit': 'METERS', 'longitude': -122.8647}, {'elevation': 8.2, 'mindate': '1939-07-01', 'maxdate': '2025-02-08', 'latitude': 37.4725, 'name': 'HALF MOON BAY, CA US', 'datacoverage': 0.9619, 'id': 'GHCND:USC00043714', 'elevationUnit': 'METERS', 'longitude': -122.4433}, {'elevation': 83.8, 'mindate': '1948-07-01', 'maxdate': '2025-01-23', 'latitude': 36.8483, 'name': 'HOLLISTER 2, CA US', 'datacoverage': 0.5786, 'id': 'GHCND:USC00044025', 'elevationUnit': 'METERS', 'longitude': -121.4213}, {'elevation': 44.2, 'mindate': '1902-01-01', 'maxdate': '2025-02-08', 'latitude': 37.9566, 'name': 'KENTFIELD, CA US', 'datacoverage': 0.9665, 'id': 'GHCND:USC00044500', 'elevationUnit': 'METERS', 'longitude': -122.5447}, {'elevation': 57, 'mindate': '1975-08-01', 'maxdate': '2025-02-08', 'latitude': 38.492, 'name': 'LAKE SOLANO, CA US', 'datacoverage': 0.9884, 'id': 'GHCND:USC00044712', 'elevationUnit': 'METERS', 'longitude': -122.0039}, {'elevation': 161.2, 'mindate': '1903-01-01', 'maxdate': '2025-01-13', 'latitude': 37.68194, 'name': 'LIVERMORE, CA US', 'datacoverage': 0.9853, 'id': 'GHCND:USC00044997', 'elevationUnit': 'METERS', 'longitude': -121.75139}, {'elevation': 146.3, 'mindate': '1970-03-01', 'maxdate': '2025-02-08', 'latitude': 38.4916, 'name': 'MARKLEY COVE, CA US', 'datacoverage': 0.9936, 'id': 'GHCND:USC00045360', 'elevationUnit': 'METERS', 'longitude': -122.1241}, {'elevation': 37.2, 'mindate': '1906-03-01', 'maxdate': '2025-02-08', 'latitude': 36.5927, 'name': 'MONTEREY, CA US', 'datacoverage': 0.686, 'id': 'GHCND:USC00045795', 'elevationUnit': 'METERS', 'longitude': -121.8555}, {'elevation': 661.4, 'mindate': '1952-04-01', 'maxdate': '2024-12-31', 'latitude': 37.8792, 'name': 'MOUNT DIABLO JUNCTION, CA US', 'datacoverage': 0.9898, 'id': 'GHCND:USC00045915', 'elevationUnit': 'METERS', 'longitude': -121.9303}, {'elevation': 1286.3, 'mindate': '1948-07-01', 'maxdate': '2025-02-07', 'latitude': 37.34336, 'name': 'MOUNT HAMILTON, CA US', 'datacoverage': 0.9784, 'id': 'GHCND:USC00045933', 'elevationUnit': 'METERS', 'longitude': -121.63473}, {'elevation': 67.1, 'mindate': '1940-12-01', 'maxdate': '2025-01-28', 'latitude': 37.8977, 'name': 'MUIR WOODS, CA US', 'datacoverage': 0.9429, 'id': 'GHCND:USC00046027', 'elevationUnit': 'METERS', 'longitude': -122.5688}, {'elevation': 10.7, 'mindate': '1893-01-01', 'maxdate': '2025-02-08', 'latitude': 38.2777, 'name': 'NAPA STATE HOSPITAL, CA US', 'datacoverage': 0.9417, 'id': 'GHCND:USC00046074', 'elevationUnit': 'METERS', 'longitude': -122.2647}, {'elevation': 27.4, 'mindate': '1902-06-01', 'maxdate': '2024-12-31', 'latitude': 37.2811, 'name': 'NEWMAN, CA US', 'datacoverage': 0.9033, 'id': 'GHCND:USC00046168', 'elevationUnit': 'METERS', 'longitude': -121.0177}, {'elevation': 9.1, 'mindate': '1970-10-01', 'maxdate': '2025-02-08', 'latitude': 37.7983, 'name': 'OAKLAND MUSEUM, CA US', 'datacoverage': 0.9347, 'id': 'GHCND:USC00046336', 'elevationUnit': 'METERS', 'longitude': -122.2642}, {'elevation': 6.1, 'mindate': '1893-02-01', 'maxdate': '2025-02-08', 'latitude': 38.2577, 'name': 'PETALUMA AIRPORT, CA US', 'datacoverage': 0.8307, 'id': 'GHCND:USC00046826', 'elevationUnit': 'METERS', 'longitude': -122.6077}, {'elevation': 9.4, 'mindate': '1906-04-01', 'maxdate': '2025-02-08', 'latitude': 37.4767, 'name': 'REDWOOD CITY, CA US', 'datacoverage': 0.8137, 'id': 'GHCND:USC00047339', 'elevationUnit': 'METERS', 'longitude': -122.2386}, {'elevation': 6.1, 'mindate': '1950-12-01', 'maxdate': '2025-02-08', 'latitude': 37.9191, 'name': 'RICHMOND, CA US', 'datacoverage': 0.9406, 'id': 'GHCND:USC00047414', 'elevationUnit': 'METERS', 'longitude': -122.3772}, {'elevation': 68.6, 'mindate': '1907-10-24', 'maxdate': '2023-04-30', 'latitude': 38.5066, 'name': 'SAINT HELENA, CA US', 'datacoverage': 0.9491, 'id': 'GHCND:USC00047643', 'elevationUnit': 'METERS', 'longitude': -122.4713}, {'elevation': 2.4, 'mindate': '1948-07-01', 'maxdate': '2024-12-31', 'latitude': 37.728, 'name': 'SAN FRANCISCO OCEANSIDE, CA US', 'datacoverage': 0.7991, 'id': 'GHCND:USC00047767', 'elevationUnit': 'METERS', 'longitude': -122.5052}, {'elevation': 20.4, 'mindate': '1893-01-01', 'maxdate': '2025-02-08', 'latitude': 37.34972, 'name': 'SAN JOSE, CA US', 'datacoverage': 0.8563, 'id': 'GHCND:USC00047821', 'elevationUnit': 'METERS', 'longitude': -121.90333}, {'elevation': 36.6, 'mindate': '1894-01-01', 'maxdate': '2025-02-08', 'latitude': 37.9983, 'name': 'SAN RAFAEL CIVIC CENTER, CA US', 'datacoverage': 0.5562, 'id': 'GHCND:USC00047880', 'elevationUnit': 'METERS', 'longitude': -122.5372}, {'elevation': 50.6, 'mindate': '1902-06-01', 'maxdate': '2025-02-08', 'latitude': 38.45579, 'name': 'SANTA ROSA, CA US', 'datacoverage': 0.9414, 'id': 'GHCND:USC00047965', 'elevationUnit': 'METERS', 'longitude': -122.71335}, {'elevation': 691.9, 'mindate': '1995-07-01', 'maxdate': '2025-02-04', 'latitude': 37.3133, 'name': 'SKYLINE RIDGE PRESERVE, CA US', 'datacoverage': 0.9604, 'id': 'GHCND:USC00048273', 'elevationUnit': 'METERS', 'longitude': -122.185}, {'elevation': 29.6, 'mindate': '1893-01-01', 'maxdate': '2025-01-31', 'latitude': 38.2994, 'name': 'SONOMA, CA US', 'datacoverage': 0.5985, 'id': 'GHCND:USC00048351', 'elevationUnit': 'METERS', 'longitude': -122.4622}, {'elevation': 41.1, 'mindate': '1906-03-01', 'maxdate': '2024-12-31', 'latitude': 37.6819, 'name': 'TRACY CARBONA, CA US', 'datacoverage': 0.6775, 'id': 'GHCND:USC00048999', 'elevationUnit': 'METERS', 'longitude': -121.3466}, {'elevation': 18.6, 'mindate': '1955-02-01', 'maxdate': '2025-02-08', 'latitude': 37.79589, 'name': 'TRACY PUMPING PLANT, CA US', 'datacoverage': 0.9855, 'id': 'GHCND:USC00049001', 'elevationUnit': 'METERS', 'longitude': -121.58319}, {'elevation': 120.1, 'mindate': '1948-07-01', 'maxdate': '2024-12-31', 'latitude': 37.7719, 'name': 'UPPER SAN LEANDRO FILTERS, CA US', 'datacoverage': 0.8924, 'id': 'GHCND:USC00049185', 'elevationUnit': 'METERS', 'longitude': -122.1675}, {'elevation': 103.9, 'mindate': '1998-02-01', 'maxdate': '2025-02-08', 'latitude': 38.1, 'name': 'VALLEJO, CA US', 'datacoverage': 0.6369, 'id': 'GHCND:USC00049219', 'elevationUnit': 'METERS', 'longitude': -122.1869}, {'elevation': 29, 'mindate': '1908-01-01', 'maxdate': '2025-02-03', 'latitude': 36.9308, 'name': 'WATSONVILLE WATERWORKS, CA US', 'datacoverage': 0.9304, 'id': 'GHCND:USC00049473', 'elevationUnit': 'METERS', 'longitude': -121.7691}, {'elevation': 41.1, 'mindate': '1906-03-01', 'maxdate': '2025-02-08', 'latitude': 38.5252, 'name': 'WINTERS, CA US', 'datacoverage': 0.7042, 'id': 'GHCND:USC00049742', 'elevationUnit': 'METERS', 'longitude': -121.9777}, {'elevation': 196.6, 'mindate': '1998-02-18', 'maxdate': '2025-02-09', 'latitude': 37.3581, 'name': 'LOS ALTOS CALIFORNIA, CA US', 'datacoverage': 0.9351, 'id': 'GHCND:USR0000CALT', 'elevationUnit': 'METERS', 'longitude': -122.1472}, {'elevation': 378, 'mindate': '1997-01-14', 'maxdate': '2025-02-09', 'latitude': 38.0281, 'name': 'BARNABY CALIFORNIA, CA US', 'datacoverage': 0.9657, 'id': 'GHCND:USR0000CBAR', 'elevationUnit': 'METERS', 'longitude': -122.7022}, {'elevation': 457.2, 'mindate': '2003-09-29', 'maxdate': '2024-12-26', 'latitude': 38.0394, 'name': 'BIG ROCK CALIFORNIA, CA US', 'datacoverage': 0.9744, 'id': 'GHCND:USR0000CBIR', 'elevationUnit': 'METERS', 'longitude': -122.57}, {'elevation': 487.7, 'mindate': '1994-04-17', 'maxdate': '2025-02-09', 'latitude': 37.95, 'name': 'BLACK DIAMOND CALIFORNIA, CA US', 'datacoverage': 0.9815, 'id': 'GHCND:USR0000CBKD', 'elevationUnit': 'METERS', 'longitude': -121.8844}, {'elevation': 801.6, 'mindate': '1998-06-16', 'maxdate': '2025-02-09', 'latitude': 37.1317, 'name': 'BEN LOMOND CALIFORNIA, CA US', 'datacoverage': 0.9872, 'id': 'GHCND:USR0000CBNL', 'elevationUnit': 'METERS', 'longitude': -122.17}, {'elevation': 442, 'mindate': '1994-04-17', 'maxdate': '2025-02-09', 'latitude': 37.9442, 'name': 'BRIONES CALIFORNIA, CA US', 'datacoverage': 0.9557, 'id': 'GHCND:USR0000CBRI', 'elevationUnit': 'METERS', 'longitude': -122.1178}, {'elevation': 374.9, 'mindate': '1997-05-29', 'maxdate': '2025-02-09', 'latitude': 37.5531, 'name': 'CALAVERAS ROAD CALIFORNIA, CA US', 'datacoverage': 0.9182, 'id': 'GHCND:USR0000CCLV', 'elevationUnit': 'METERS', 'longitude': -121.8439}, {'elevation': 137.2, 'mindate': '1990-05-02', 'maxdate': '2025-02-09', 'latitude': 36.9911, 'name': 'CORRALITOS CALIFORNIA, CA US', 'datacoverage': 0.9607, 'id': 'GHCND:USR0000CCOR', 'elevationUnit': 'METERS', 'longitude': -121.7978}, {'elevation': 563.9, 'mindate': '1998-08-11', 'maxdate': '2025-02-09', 'latitude': 37.3292, 'name': 'DIABLO GRANDE CALIFORNIA, CA US', 'datacoverage': 0.9589, 'id': 'GHCND:USR0000CDIA', 'elevationUnit': 'METERS', 'longitude': -121.2939}, {'elevation': 123.1, 'mindate': '2002-12-12', 'maxdate': '2025-02-09', 'latitude': 36.8422, 'name': 'HOLLISTER CALIFORNIA, CA US', 'datacoverage': 0.9968, 'id': 'GHCND:USR0000CHLR', 'elevationUnit': 'METERS', 'longitude': -121.3622}, {'elevation': 106.7, 'mindate': '1990-05-02', 'maxdate': '2025-02-09', 'latitude': 37.0547, 'name': 'LOS BANOS CALIFORNIA, CA US', 'datacoverage': 0.9784, 'id': 'GHCND:USR0000CLAB', 'elevationUnit': 'METERS', 'longitude': -121.0531}, {'elevation': 265.8, 'mindate': '1990-05-02', 'maxdate': '2025-02-09', 'latitude': 37.3053, 'name': 'LA HONDA CALIFORNIA, CA US', 'datacoverage': 0.9903, 'id': 'GHCND:USR0000CLAH', 'elevationUnit': 'METERS', 'longitude': -122.255}, {'elevation': 609.6, 'mindate': '1997-05-29', 'maxdate': '2025-02-09', 'latitude': 37.2028, 'name': 'LOS GATOS CALIFORNIA, CA US', 'datacoverage': 0.8907, 'id': 'GHCND:USR0000CLGA', 'elevationUnit': 'METERS', 'longitude': -121.9428}, {'elevation': 621.8, 'mindate': '1998-10-29', 'maxdate': '2025-02-09', 'latitude': 37.8172, 'name': 'MALLORY RIDGE CALIFORNIA, CA US', 'datacoverage': 0.9828, 'id': 'GHCND:USR0000CMLR', 'elevationUnit': 'METERS', 'longitude': -121.7789}, {'elevation': 427.6, 'mindate': '1992-06-08', 'maxdate': '2025-02-09', 'latitude': 37.865, 'name': 'OAKLAND NORTH CALIFORNIA, CA US', 'datacoverage': 0.9737, 'id': 'GHCND:USR0000COKN', 'elevationUnit': 'METERS', 'longitude': -122.2208}, {'elevation': 333.8, 'mindate': '1992-08-24', 'maxdate': '2025-02-09', 'latitude': 37.7861, 'name': 'OAKLAND SOUTH CALIFORNIA, CA US', 'datacoverage': 0.9281, 'id': 'GHCND:USR0000COKS', 'elevationUnit': 'METERS', 'longitude': -122.1447}, {'elevation': 629.7, 'mindate': '1998-10-29', 'maxdate': '2025-02-09', 'latitude': 37.4431, 'name': 'POVERTY CALIFORNIA, CA US', 'datacoverage': 0.7997, 'id': 'GHCND:USR0000CPOV', 'elevationUnit': 'METERS', 'longitude': -121.7706}, {'elevation': 196.3, 'mindate': '1997-05-29', 'maxdate': '2025-02-09', 'latitude': 37.475, 'name': 'PULGAS CALIFORNIA, CA US', 'datacoverage': 0.951, 'id': 'GHCND:USR0000CPUL', 'elevationUnit': 'METERS', 'longitude': -122.2981}, {'elevation': 932.7, 'mindate': '1995-01-01', 'maxdate': '2025-02-09', 'latitude': 37.5019, 'name': 'ROSE PEAK CALIFORNIA, CA US', 'datacoverage': 0.9824, 'id': 'GHCND:USR0000CRSP', 'elevationUnit': 'METERS', 'longitude': -121.7355}, {'elevation': 175.6, 'mindate': '1991-03-06', 'maxdate': '2025-02-09', 'latitude': 38.4786, 'name': 'SANTA ROSA CALIFORNIA, CA US', 'datacoverage': 0.9939, 'id': 'GHCND:USR0000CSRS', 'elevationUnit': 'METERS', 'longitude': -122.7119}, {'elevation': 327.7, 'mindate': '1998-10-29', 'maxdate': '2025-02-09', 'latitude': 37.5625, 'name': 'SPRING VALLEY CALIFORNIA, CA US', 'datacoverage': 0.9366, 'id': 'GHCND:USR0000CSVA', 'elevationUnit': 'METERS', 'longitude': -122.4364}, {'elevation': 536.4, 'mindate': '1994-04-17', 'maxdate': '2025-02-09', 'latitude': 37.8339, 'name': 'LAS TRAMPAS CALIFORNIA, CA US', 'datacoverage': 0.9443, 'id': 'GHCND:USR0000CTRA', 'elevationUnit': 'METERS', 'longitude': -122.0669}, {'elevation': 426.7, 'mindate': '2003-05-23', 'maxdate': '2025-02-09', 'latitude': 37.9906, 'name': 'WOODACRE CALIFORNIA, CA US', 'datacoverage': 0.8374, 'id': 'GHCND:USR0000CWOO', 'elevationUnit': 'METERS', 'longitude': -122.6447}, {'elevation': 18, 'mindate': '1947-05-24', 'maxdate': '2023-01-07', 'latitude': 38.26667, 'name': 'TRAVIS FIELD AFB, CA US', 'datacoverage': 0.2909, 'id': 'GHCND:USW00023202', 'elevationUnit': 'METERS', 'longitude': -121.93333}, {'elevation': 36.2, 'mindate': '1998-06-08', 'maxdate': '2025-02-08', 'latitude': 38.50369, 'name': 'SANTA ROSA SONOMA CO AIRPORT, CA US', 'datacoverage': 0.9995, 'id': 'GHCND:USW00023213', 'elevationUnit': 'METERS', 'longitude': -122.81101}, {'elevation': 1.5, 'mindate': '1948-01-01', 'maxdate': '2025-02-08', 'latitude': 37.7178, 'name': 'OAKLAND INTERNATIONAL AIRPORT, CA US', 'datacoverage': 0.7932, 'id': 'GHCND:USW00023230', 'elevationUnit': 'METERS', 'longitude': -122.23301}, {'elevation': 5.9, 'mindate': '1941-11-10', 'maxdate': '2025-02-08', 'latitude': 38.50659, 'name': 'SACRAMENTO AIRPORT ASOS, CA US', 'datacoverage': 0.9614, 'id': 'GHCND:USW00023232', 'elevationUnit': 'METERS', 'longitude': -121.49604}, {'elevation': 22.3, 'mindate': '1930-06-14', 'maxdate': '2025-02-08', 'latitude': 36.66352, 'name': 'SALINAS AIRPORT, CA US', 'datacoverage': 0.9841, 'id': 'GHCND:USW00023233', 'elevationUnit': 'METERS', 'longitude': -121.60928}, {'elevation': 3.2, 'mindate': '1945-07-01', 'maxdate': '2025-02-08', 'latitude': 37.61962, 'name': 'SAN FRANCISCO INTERNATIONAL AIRPORT, CA US', 'datacoverage': 0.9986, 'id': 'GHCND:USW00023234', 'elevationUnit': 'METERS', 'longitude': -122.36562}, {'elevation': 8.3, 'mindate': '1941-02-20', 'maxdate': '2025-02-08', 'latitude': 37.88997, 'name': 'STOCKTON AIRPORT, CA US', 'datacoverage': 0.909, 'id': 'GHCND:USW00023237', 'elevationUnit': 'METERS', 'longitude': -121.22637}, {'elevation': 7, 'mindate': '1999-06-06', 'maxdate': '2025-02-08', 'latitude': 37.99165, 'name': 'CONCORD BUCHANAN FIELD, CA US', 'datacoverage': 0.9995, 'id': 'GHCND:USW00023254', 'elevationUnit': 'METERS', 'longitude': -122.05268}, {'elevation': 48.8, 'mindate': '1968-12-01', 'maxdate': '2025-02-08', 'latitude': 36.59041, 'name': 'MONTEREY PENINSUL AIRPORT, CA US', 'datacoverage': 0.6202, 'id': 'GHCND:USW00023259', 'elevationUnit': 'METERS', 'longitude': -121.84881}, {'elevation': 45.7, 'mindate': '1921-01-01', 'maxdate': '2025-02-08', 'latitude': 37.7705, 'name': 'SAN FRANCISCO DOWNTOWN, CA US', 'datacoverage': 0.9997, 'id': 'GHCND:USW00023272', 'elevationUnit': 'METERS', 'longitude': -122.4269}, {'elevation': 49.5, 'mindate': '1998-07-19', 'maxdate': '2025-02-08', 'latitude': 36.93936, 'name': 'WATSONVILLE MUNICIPAL AIRPORT, CA US', 'datacoverage': 0.9939, 'id': 'GHCND:USW00023277', 'elevationUnit': 'METERS', 'longitude': -121.79001}, {'elevation': 119.7, 'mindate': '1998-04-06', 'maxdate': '2025-02-08', 'latitude': 37.69309, 'name': 'LIVERMORE MUNICIPAL AIRPORT, CA US', 'datacoverage': 0.9992, 'id': 'GHCND:USW00023285', 'elevationUnit': 'METERS', 'longitude': -121.8149}, {'elevation': 15, 'mindate': '1998-07-04', 'maxdate': '2025-02-08', 'latitude': 37.35938, 'name': 'SAN JOSE, CA US', 'datacoverage': 0.9997, 'id': 'GHCND:USW00023293', 'elevationUnit': 'METERS', 'longitude': -121.92444}, {'elevation': 4.7, 'mindate': '1998-05-22', 'maxdate': '2025-02-08', 'latitude': 38.2075, 'name': 'NAPA CO AIRPORT, CA US', 'datacoverage': 0.9995, 'id': 'GHCND:USW00093227', 'elevationUnit': 'METERS', 'longitude': -122.28041}, {'elevation': 9.6, 'mindate': '1998-09-19', 'maxdate': '2025-02-08', 'latitude': 37.65886, 'name': 'HAYWARD AIR TERMINAL, CA US', 'datacoverage': 0.9992, 'id': 'GHCND:USW00093228', 'elevationUnit': 'METERS', 'longitude': -122.12116}, {'elevation': 31.7, 'mindate': '1998-04-06', 'maxdate': '2025-02-08', 'latitude': 38.37753, 'name': 'VACAVILLE NUT TREE AIRPORT ASOS, CA US', 'datacoverage': 0.9901, 'id': 'GHCND:USW00093241', 'elevationUnit': 'METERS', 'longitude': -121.95854}]\n",
      "{'id': 'GHCND:USC00043244', 'name': 'FREMONT, CA US', 'elevation': 11.6, 'location': (37.5422, -122.0158), 'distance': 1.949607323837878}\n",
      "Nearest Station ID: GHCND:USC00043244, Name: FREMONT, CA US, Distance: 1.95 km\n"
     ]
    },
    {
     "data": {
      "text/plain": [
       "'\\n# Example coordinates (latitude, longitude) los angeles\\nget_nearest_noaa_weather_station_id(user_location, \"2023-01-01\", \"2023-01-02\")\\n'"
      ]
     },
     "execution_count": 21,
     "metadata": {},
     "output_type": "execute_result"
    }
   ],
   "source": [
    "user_location = (\n",
    "    37.547247,\n",
    "    -121.994669\n",
    ")\n",
    "\n",
    "# if command takes longer than 10 seconds, terminate and retry up to 3 times\n",
    "weather_station_data = None\n",
    "retries = 0\n",
    "try:\n",
    "    weather_station_data = get_nearest_noaa_weather_station_id(\n",
    "        user_location, \"2023-01-01\", \"2023-01-02\"\n",
    "    )\n",
    "except requests.exceptions.RequestException as e:\n",
    "    print(e)\n",
    "    retries += 1\n",
    "    if retries == 3:\n",
    "        print(\n",
    "            \"Failed to get the nearest weather station ID - sometimes NOAA goes down.\"\n",
    "        )\n",
    "\n",
    "\n",
    "\"\"\"\n",
    "# Example coordinates (latitude, longitude) los angeles\n",
    "get_nearest_noaa_weather_station_id(user_location, \"2023-01-01\", \"2023-01-02\")\n",
    "\"\"\""
   ]
  },
  {
   "cell_type": "code",
   "execution_count": null,
   "metadata": {},
   "outputs": [],
   "source": []
  },
  {
   "cell_type": "code",
   "execution_count": null,
   "metadata": {},
   "outputs": [
    {
     "name": "stdout",
     "output_type": "stream",
     "text": [
      "<Response [200]>\n",
      "https://www.ncei.noaa.gov/cdo-web/api/v2/data?datasetid=GHCND&stationid=GHCND%3AUSW00093134&startdate=2021-01-01&enddate=2021-01-02&limit=10&datatypeid=TMAX%2CTMIN&units=metric\n"
     ]
    }
   ],
   "source": [
    "def get_noaa_weather_data(station_id, start_date, end_date):\n",
    "    data_url = \"https://www.ncei.noaa.gov/cdo-web/api/v2/data?datasetid=GHCND\"\n",
    "    headers = {\"token\": \"XeVRiGIYmbnDCzzMCnjWCioSDjUYZXPi\"}\n",
    "    params = {\n",
    "        # \"datatypeid\": \"GHCND\",\n",
    "        \"stationid\": station_id,\n",
    "        # \"locationid\": \"ZIP:28801\",\n",
    "        \"startdate\": start_date,\n",
    "        \"enddate\": end_date,\n",
    "        \"limit\": 10,  # Adjust as needed\n",
    "        \"datatypeid\": \"TMAX,TMIN\",  # Maximum temperature\n",
    "        \"units\": \"metric\",\n",
    "    }\n",
    "    response = requests.get(data_url, headers=headers, params=params)\n",
    "    print(response)\n",
    "    print(response.url)\n",
    "    data = response.json().get(\"results\", [])\n",
    "    return data\n",
    "\n",
    "\n",
    "dat = get_noaa_weather_data(\"GHCND:USW00003171\", \"2024-11-01\", \"2021-01-02\")"
   ]
  },
  {
   "cell_type": "code",
   "execution_count": 20,
   "metadata": {},
   "outputs": [
    {
     "name": "stdout",
     "output_type": "stream",
     "text": [
      "<Response [200]>\n",
      "https://www.ncei.noaa.gov/cdo-web/api/v2/data?datasetid=GHCND&stationid=GHCND%3AUSW00093134&startdate=2024-09-01&enddate=2024-09-09&limit=10&datatypeid=TMAX%2CTMIN&units=metric\n",
      "                  date datatype            station attributes  value\n",
      "0  2024-09-01T00:00:00     TMAX  GHCND:USW00093134       ,,D,   30.0\n",
      "1  2024-09-01T00:00:00     TMIN  GHCND:USW00093134       ,,D,   17.2\n",
      "2  2024-09-02T00:00:00     TMAX  GHCND:USW00093134       ,,D,   31.1\n",
      "3  2024-09-02T00:00:00     TMIN  GHCND:USW00093134       ,,D,   18.3\n",
      "4  2024-09-03T00:00:00     TMAX  GHCND:USW00093134       ,,D,   32.2\n",
      "5  2024-09-03T00:00:00     TMIN  GHCND:USW00093134       ,,D,   18.9\n",
      "6  2024-09-04T00:00:00     TMAX  GHCND:USW00093134       ,,D,   34.4\n",
      "7  2024-09-04T00:00:00     TMIN  GHCND:USW00093134       ,,D,   18.9\n",
      "8  2024-09-05T00:00:00     TMAX  GHCND:USW00093134       ,,D,   38.9\n",
      "9  2024-09-05T00:00:00     TMIN  GHCND:USW00093134       ,,D,   22.2\n"
     ]
    }
   ],
   "source": [
    "# turn into pd dataframe\n",
    "import pandas as pd\n",
    "\n",
    "df = pd.DataFrame(\n",
    "    get_noaa_weather_data(weather_station_data[0][\"id\"], \"2024-09-01\", \"2024-09-09\")\n",
    ")\n",
    "print(df)"
   ]
  }
 ],
 "metadata": {
  "kernelspec": {
   "display_name": "fruitflypheno",
   "language": "python",
   "name": "python3"
  },
  "language_info": {
   "codemirror_mode": {
    "name": "ipython",
    "version": 3
   },
   "file_extension": ".py",
   "mimetype": "text/x-python",
   "name": "python",
   "nbconvert_exporter": "python",
   "pygments_lexer": "ipython3",
   "version": "3.12.6"
  }
 },
 "nbformat": 4,
 "nbformat_minor": 2
}
