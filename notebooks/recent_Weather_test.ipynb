{
 "cells": [
  {
   "cell_type": "code",
   "execution_count": 1,
   "metadata": {},
   "outputs": [],
   "source": [
    "def create_extent(lat, lon, lat_distance=1, lon_distance=1):\n",
    "    southwest_lat = lat - lat_distance\n",
    "    southwest_lon = lon - lon_distance\n",
    "    northeast_lat = lat + lat_distance\n",
    "    northeast_lon = lon + lon_distance\n",
    "    extent = f\"{southwest_lat},{southwest_lon},{northeast_lat},{northeast_lon}\"\n",
    "    return extent, southwest_lat, southwest_lon, northeast_lat, northeast_lon"
   ]
  },
  {
   "cell_type": "code",
   "execution_count": 2,
   "metadata": {},
   "outputs": [
    {
     "name": "stdout",
     "output_type": "stream",
     "text": [
      "State FIPS: 06, County FIPS: 06037\n"
     ]
    }
   ],
   "source": [
    "import requests\n",
    "\n",
    "\n",
    "def get_fips_code(lat, lon):\n",
    "    \"\"\"\n",
    "    Get the FIPS code for state and county when provided coordinates.\n",
    "\n",
    "    Parameters:\n",
    "    lat (float): Latitude of the location.\n",
    "    lon (float): Longitude of the location.\n",
    "\n",
    "    Returns:\n",
    "    dict: A dictionary containing the state and county FIPS codes.\n",
    "    \"\"\"\n",
    "    url = \"https://geo.fcc.gov/api/census/block/find\"\n",
    "    params = {\"latitude\": lat, \"longitude\": lon, \"format\": \"json\"}\n",
    "\n",
    "    response = requests.get(url, params=params)\n",
    "    data = response.json()\n",
    "    if \"County\" in data and \"State\" in data:\n",
    "        fips_codes = {\n",
    "            \"state_fips\": data[\"State\"][\"FIPS\"],\n",
    "            \"county_fips\": data[\"County\"][\"FIPS\"],\n",
    "        }\n",
    "        return fips_codes\n",
    "    else:\n",
    "        raise ValueError(\"Could not retrieve FIPS codes for the provided coordinates.\")\n",
    "\n",
    "\n",
    "# Example usage\n",
    "coordinates = (34.05, -118.55)  # Example coordinates (latitude, longitude)\n",
    "fips_codes = get_fips_code(*coordinates)\n",
    "print(\n",
    "    f\"State FIPS: {fips_codes['state_fips']}, County FIPS: {fips_codes['county_fips']}\"\n",
    ")"
   ]
  },
  {
   "cell_type": "code",
   "execution_count": 12,
   "metadata": {},
   "outputs": [],
   "source": [
    "from geopy.distance import geodesic\n",
    "\n",
    "\n",
    "def get_nearest_noaa_weather_station_id(user_location, start_date, end_date):\n",
    "    # this function returns the nearest weather station id based on the user location\n",
    "    # for weather stations with data between start_date and end_date for stations with GHCND dataset temperature data\n",
    "    # user_location: tuple of latitude and longitude\n",
    "    # start_date: start date in the format 'YYYY-MM-DD'\n",
    "    # end_date: end date in the format 'YYYY-MM-DD'\n",
    "    # returns: nearest weather station id\n",
    "\n",
    "    #######################################################\n",
    "    # get nearest weather station based on fips for the county\n",
    "    #######################################################\n",
    "    fips_code = get_fips_code(*user_location)[\"county_fips\"]\n",
    "    stations_url = \"https://www.ncei.noaa.gov/cdo-web/api/v2/stations\"\n",
    "    user_location = (34.05, -118.25)  # Example coordinates (latitude, longitude)\n",
    "\n",
    "    fips_code = get_fips_code(*user_location)[\"county_fips\"]\n",
    "    # ext, sw_lat, sw_lon, ne_lat, ne_lon = create_extent(user_location[0], user_location[1])\n",
    "    # Get NOAA stations metadata\n",
    "    stations_url = \"https://www.ncei.noaa.gov/cdo-web/api/v2/stations\"\n",
    "    headers = {\"token\": \"XeVRiGIYmbnDCzzMCnjWCioSDjUYZXPi\"}\n",
    "\n",
    "    params = {\n",
    "        \"locationid\": \"FIPS:\" + str(fips_code),\n",
    "        # ensure the stations have temperature data\n",
    "        \"datacategoryid\": \"TEMP\",\n",
    "        \"limit\": 500,  # Adjust as needed\n",
    "        # ensure the stations have temperature data\n",
    "        \"datasetid\": \"GHCND\",  # Daily Summaries\n",
    "        \"startdate\": start_date,\n",
    "        \"enddate\": end_date,\n",
    "        \"units\": \"metric\",\n",
    "    }\n",
    "\n",
    "    response = requests.get(stations_url, headers=headers, params=params)\n",
    "    stations = response.json()[\"results\"]\n",
    "\n",
    "    ##########################################################\n",
    "    # get nearest station based on distance from user location\n",
    "    ##########################################################\n",
    "    extent = create_extent(user_location[0], user_location[1])\n",
    "    params = {\n",
    "        \"extent\": extent,\n",
    "        # ensure the stations have temperature data\n",
    "        \"datacategoryid\": \"TEMP\",\n",
    "        \"limit\": 500,  # Adjust as needed\n",
    "        # ensure the stations have temperature data\n",
    "        \"datasetid\": \"GHCND\",  # Daily Summaries\n",
    "        \"startdate\": start_date,\n",
    "        \"enddate\": end_date,\n",
    "        \"units\": \"metric\",\n",
    "    }\n",
    "\n",
    "    response = requests.get(stations_url, headers=headers, params=params, timeout=10)\n",
    "    extent_stations = response.json()[\"results\"]\n",
    "    stations = stations + extent_stations\n",
    "    # Calculate the distance to each station\n",
    "\n",
    "    # Calculate distances and sort by proximity\n",
    "    distances = []\n",
    "    for station in stations:\n",
    "        station_location = (station[\"latitude\"], station[\"longitude\"])\n",
    "        distance = geodesic(user_location, station_location).km\n",
    "        station_dict = {\n",
    "            \"id\": station[\"id\"],\n",
    "            \"name\": station[\"name\"],\n",
    "            \"elevation\": station[\"elevation\"],\n",
    "            \"location\": station_location,\n",
    "            \"distance\": distance,\n",
    "        }\n",
    "        distances.append(station_dict)\n",
    "\n",
    "    # Sort by distance and get the nearest 10 stations\n",
    "    # nearest_stations_fips = sorted(distances, key=lambda x: x[3])[:20]\n",
    "    distances = [i for n, i in enumerate(distances) if i not in distances[n + 1 :]]\n",
    "\n",
    "    nearest_stations = sorted(distances, key=lambda x: x[\"distance\"])[:20]\n",
    "    nearest_station = nearest_stations[0]\n",
    "    print(nearest_station)\n",
    "    print(\n",
    "        f\"Nearest Station ID: {nearest_station['id']}, Name: {nearest_station['name']}, Distance: {nearest_station['distance']:.2f} km\"\n",
    "    )\n",
    "\n",
    "    return nearest_stations"
   ]
  },
  {
   "cell_type": "code",
   "execution_count": 14,
   "metadata": {},
   "outputs": [
    {
     "name": "stdout",
     "output_type": "stream",
     "text": [
      "{'id': 'GHCND:USW00093134', 'name': 'LOS ANGELES DOWNTOWN, CA US', 'elevation': 115.2, 'location': (34.0678, -118.2417), 'distance': 2.1179149504059125}\n",
      "Nearest Station ID: GHCND:USW00093134, Name: LOS ANGELES DOWNTOWN, CA US, Distance: 2.12 km\n"
     ]
    },
    {
     "data": {
      "text/plain": [
       "'\\n# Example coordinates (latitude, longitude) los angeles\\nget_nearest_noaa_weather_station_id(user_location, \"2023-01-01\", \"2023-01-02\")\\n'"
      ]
     },
     "execution_count": 14,
     "metadata": {},
     "output_type": "execute_result"
    }
   ],
   "source": [
    "user_location = (\n",
    "    34.05,\n",
    "    -118.25,\n",
    ")\n",
    "\n",
    "# if command takes longer than 10 seconds, terminate and retry up to 3 times\n",
    "weather_station_data = None\n",
    "retries = 0\n",
    "try:\n",
    "    weather_station_data = get_nearest_noaa_weather_station_id(\n",
    "        user_location, \"2023-01-01\", \"2023-01-02\"\n",
    "    )\n",
    "except requests.exceptions.RequestException as e:\n",
    "    print(e)\n",
    "    retries += 1\n",
    "    if retries == 3:\n",
    "        print(\n",
    "            \"Failed to get the nearest weather station ID - sometimes NOAA goes down.\"\n",
    "        )\n",
    "\n",
    "\n",
    "\"\"\"\n",
    "# Example coordinates (latitude, longitude) los angeles\n",
    "get_nearest_noaa_weather_station_id(user_location, \"2023-01-01\", \"2023-01-02\")\n",
    "\"\"\""
   ]
  },
  {
   "cell_type": "code",
   "execution_count": 16,
   "metadata": {},
   "outputs": [
    {
     "name": "stdout",
     "output_type": "stream",
     "text": [
      "<Response [200]>\n",
      "https://www.ncei.noaa.gov/cdo-web/api/v2/data?datasetid=GHCND&stationid=GHCND%3AUSW00093134&startdate=2021-01-01&enddate=2021-01-02&limit=10&datatypeid=TMAX%2CTMIN&units=metric\n"
     ]
    }
   ],
   "source": [
    "def get_noaa_weather_data(station_id, start_date, end_date):\n",
    "    data_url = \"https://www.ncei.noaa.gov/cdo-web/api/v2/data?datasetid=GHCND\"\n",
    "    headers = {\"token\": \"XeVRiGIYmbnDCzzMCnjWCioSDjUYZXPi\"}\n",
    "    params = {\n",
    "        # \"datatypeid\": \"GHCND\",\n",
    "        \"stationid\": station_id,\n",
    "        # \"locationid\": \"ZIP:28801\",\n",
    "        \"startdate\": start_date,\n",
    "        \"enddate\": end_date,\n",
    "        \"limit\": 10,  # Adjust as needed\n",
    "        \"datatypeid\": \"TMAX,TMIN\",  # Maximum temperature\n",
    "        \"units\": \"metric\",\n",
    "    }\n",
    "    response = requests.get(data_url, headers=headers, params=params)\n",
    "    print(response)\n",
    "    print(response.url)\n",
    "    data = response.json().get(\"results\", [])\n",
    "    return data\n",
    "\n",
    "\n",
    "dat = get_noaa_weather_data(\"GHCND:USW00093134\", \"2021-01-01\", \"2021-01-02\")"
   ]
  },
  {
   "cell_type": "code",
   "execution_count": 20,
   "metadata": {},
   "outputs": [
    {
     "name": "stdout",
     "output_type": "stream",
     "text": [
      "<Response [200]>\n",
      "https://www.ncei.noaa.gov/cdo-web/api/v2/data?datasetid=GHCND&stationid=GHCND%3AUSW00093134&startdate=2024-09-01&enddate=2024-09-09&limit=10&datatypeid=TMAX%2CTMIN&units=metric\n",
      "                  date datatype            station attributes  value\n",
      "0  2024-09-01T00:00:00     TMAX  GHCND:USW00093134       ,,D,   30.0\n",
      "1  2024-09-01T00:00:00     TMIN  GHCND:USW00093134       ,,D,   17.2\n",
      "2  2024-09-02T00:00:00     TMAX  GHCND:USW00093134       ,,D,   31.1\n",
      "3  2024-09-02T00:00:00     TMIN  GHCND:USW00093134       ,,D,   18.3\n",
      "4  2024-09-03T00:00:00     TMAX  GHCND:USW00093134       ,,D,   32.2\n",
      "5  2024-09-03T00:00:00     TMIN  GHCND:USW00093134       ,,D,   18.9\n",
      "6  2024-09-04T00:00:00     TMAX  GHCND:USW00093134       ,,D,   34.4\n",
      "7  2024-09-04T00:00:00     TMIN  GHCND:USW00093134       ,,D,   18.9\n",
      "8  2024-09-05T00:00:00     TMAX  GHCND:USW00093134       ,,D,   38.9\n",
      "9  2024-09-05T00:00:00     TMIN  GHCND:USW00093134       ,,D,   22.2\n"
     ]
    }
   ],
   "source": [
    "# turn into pd dataframe\n",
    "import pandas as pd\n",
    "\n",
    "df = pd.DataFrame(\n",
    "    get_noaa_weather_data(weather_station_data[0][\"id\"], \"2024-09-01\", \"2024-09-09\")\n",
    ")\n",
    "print(df)"
   ]
  }
 ],
 "metadata": {
  "kernelspec": {
   "display_name": "Python 3",
   "language": "python",
   "name": "python3"
  },
  "language_info": {
   "codemirror_mode": {
    "name": "ipython",
    "version": 3
   },
   "file_extension": ".py",
   "mimetype": "text/x-python",
   "name": "python",
   "nbconvert_exporter": "python",
   "pygments_lexer": "ipython3",
   "version": "3.12.4"
  }
 },
 "nbformat": 4,
 "nbformat_minor": 2
}
