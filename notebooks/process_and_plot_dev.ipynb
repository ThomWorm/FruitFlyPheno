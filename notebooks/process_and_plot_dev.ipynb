{
 "cells": [
  {
   "cell_type": "code",
   "execution_count": null,
   "metadata": {},
   "outputs": [],
   "source": [
    "import os\n",
    "from datetime import timedelta\n",
    "import pickle\n",
    "import sys\n",
    "\n",
    "\n",
    "# -----------\n",
    "sys.path.append(os.path.abspath(\"..\"))\n",
    "# from utils.inputs import *\n",
    "# from utils.outputs import *\n",
    "\n",
    "from utils import validate_inputs, load_species_params, all_historical_model_run, prediction_model_run, fflies_output_class\n",
    "# from utils.outputs import fflies_output_class\n",
    "\n",
    "import pandas as pd\n",
    "\n",
    "sys.path.append(os.path.abspath(\"..\"))\n",
    "\n",
    "data_path = \"data/\""
   ]
  },
  {
   "cell_type": "code",
   "execution_count": 9,
   "metadata": {},
   "outputs": [],
   "source": [
    "dat = fflies_output_class(finish_date_list=[1, 2, 3])"
   ]
  },
  {
   "cell_type": "code",
   "execution_count": 11,
   "metadata": {},
   "outputs": [],
   "source": [
    "def test_fun():\n",
    "    return fflies_output_class(finish_date_list=[1, 2, 3])"
   ]
  },
  {
   "cell_type": "code",
   "execution_count": null,
   "metadata": {},
   "outputs": [],
   "source": []
  },
  {
   "cell_type": "code",
   "execution_count": 12,
   "metadata": {},
   "outputs": [
    {
     "data": {
      "text/plain": [
       "fflies_output_class(finish_date_list=[1, 2, 3], figure=<Figure size 640x480 with 0 Axes>, value=None, array=<xarray.DataArray ()> Size: 8B\n",
       "array(nan))"
      ]
     },
     "execution_count": 12,
     "metadata": {},
     "output_type": "execute_result"
    }
   ],
   "source": [
    "foo = test_fun()\n",
    "foo"
   ]
  },
  {
   "cell_type": "code",
   "execution_count": 9,
   "metadata": {},
   "outputs": [],
   "source": [
    "def run_plot_DD(\n",
    "    start_dates,\n",
    "    coordinates,\n",
    "    target_species,\n",
    "    historical_data_buffer=400,\n",
    "    cache_path=os.path.join(data_path, \"cache/pred_cache.pkl\"),\n",
    "    context_map=False,\n",
    "    save_output=False,\n",
    "    all_historical=None,\n",
    "    force_prediction=False,\n",
    "):\n",
    "    \"\"\"\n",
    "    Generates a plot of completion dates for a given species at specified coordinates.\n",
    "\n",
    "    Parameters:\n",
    "    ----------\n",
    "    start_dates : list of datetime\n",
    "        List of start dates corresponding to each coordinate.\n",
    "    coordinates : list of tuples (lat, lon)\n",
    "        List of latitude and longitude pairs.\n",
    "    target_species : str\n",
    "        Name of the species to model.\n",
    "    days_of_data : int\n",
    "        Number of days of data to fetch - usually 180-200 is sufficient\n",
    "    historical_data_buffer : int\n",
    "        Number of days to buffer historical data for model run.\n",
    "    cache_path : str\n",
    "        Path to cache file for storing fetched data.\n",
    "    context_map : bool\n",
    "        If True, generates a context map for a single point.\n",
    "    save_output : bool\n",
    "        If True, saves the output data to a tiff file.\n",
    "    Returns:\n",
    "    -------\n",
    "    matplotlib.figure.Figure\n",
    "        A plot displaying degree-day completion for the given coordinates.\n",
    "\n",
    "    Raises:\n",
    "    ------\n",
    "    ValueError:\n",
    "        If the number of coordinates and dates do not match.\n",
    "        If no coordinates are provided.\n",
    "        If the start date is too early or the end date is in the future.\n",
    "    \"\"\"\n",
    "    ###################\n",
    "    ##Input Validation#\n",
    "    ###################\n",
    "    all_historical = validate_inputs(start_dates, coordinates, historical_data_buffer)\n",
    "\n",
    "    # a bounding box if we have multiple points, a context map if we have a single point\n",
    "    # loaded from .json file\n",
    "    fly_params = load_species_params(target_species, data_path)\n",
    "\n",
    "    # setup Modelvariables\n",
    "    first_date = min(start_dates)\n",
    "    last_date = max(start_dates) + timedelta(days=historical_data_buffer)\n",
    "    n_days_data = (last_date - first_date).days\n",
    "\n",
    "    ##########\n",
    "    ##Model##\n",
    "    ##########\n",
    "    if all_historical:\n",
    "        try:\n",
    "            return all_historical_model_run(\n",
    "                coordinates,\n",
    "                start_dates,\n",
    "                fly_params,\n",
    "                n_days_data,\n",
    "                cache_path,\n",
    "                context_map,\n",
    "            )\n",
    "        except PredictionNeededError:\n",
    "            all_historical = False\n",
    "    if force_prediction or not all_historical:\n",
    "        prediction_model_run(\n",
    "            coordinates,\n",
    "            start_dates,\n",
    "            fly_params,\n",
    "            n_days_data,\n",
    "            cache_path,\n",
    "            produce_plot=False,\n",
    "        )\n",
    "        # predict"
   ]
  },
  {
   "cell_type": "code",
   "execution_count": 10,
   "metadata": {},
   "outputs": [
    {
     "name": "stdout",
     "output_type": "stream",
     "text": [
      "er\n"
     ]
    }
   ],
   "source": [
    "output = run_plot_DD(\n",
    "    [pd.to_datetime(\"2025-01-01\")],\n",
    "    [(34.63115, -117.338321)],\n",
    "    \"Mexfly\",\n",
    "    context_map=False,\n",
    "    cache_path=os.path.join(data_path, \"cache/pred_cache.pkl\"),\n",
    ")"
   ]
  },
  {
   "cell_type": "code",
   "execution_count": 11,
   "metadata": {},
   "outputs": [
    {
     "name": "stdout",
     "output_type": "stream",
     "text": [
      "None\n"
     ]
    }
   ],
   "source": [
    "print(output)"
   ]
  },
  {
   "cell_type": "code",
   "execution_count": 7,
   "metadata": {},
   "outputs": [
    {
     "ename": "AttributeError",
     "evalue": "'str' object has no attribute 'strptime'",
     "output_type": "error",
     "traceback": [
      "\u001b[31m---------------------------------------------------------------------------\u001b[39m",
      "\u001b[31mAttributeError\u001b[39m                            Traceback (most recent call last)",
      "\u001b[36mCell\u001b[39m\u001b[36m \u001b[39m\u001b[32mIn[7]\u001b[39m\u001b[32m, line 1\u001b[39m\n\u001b[32m----> \u001b[39m\u001b[32m1\u001b[39m \u001b[43mrun_plot_DD\u001b[49m\u001b[43m(\u001b[49m\n\u001b[32m      2\u001b[39m \u001b[43m    \u001b[49m\u001b[43m[\u001b[49m\u001b[43mpd\u001b[49m\u001b[43m.\u001b[49m\u001b[43mto_datetime\u001b[49m\u001b[43m(\u001b[49m\u001b[33;43m\"\u001b[39;49m\u001b[33;43m2002-01-01\u001b[39;49m\u001b[33;43m\"\u001b[39;49m\u001b[43m)\u001b[49m\u001b[43m]\u001b[49m\u001b[43m,\u001b[49m\n\u001b[32m      3\u001b[39m \u001b[43m    \u001b[49m\u001b[43m[\u001b[49m\u001b[43m(\u001b[49m\u001b[32;43m34.63115\u001b[39;49m\u001b[43m,\u001b[49m\u001b[43m \u001b[49m\u001b[43m-\u001b[49m\u001b[32;43m117.338321\u001b[39;49m\u001b[43m)\u001b[49m\u001b[43m]\u001b[49m\u001b[43m,\u001b[49m\n\u001b[32m      4\u001b[39m \u001b[43m    \u001b[49m\u001b[33;43m\"\u001b[39;49m\u001b[33;43mMexfly\u001b[39;49m\u001b[33;43m\"\u001b[39;49m\u001b[43m,\u001b[49m\n\u001b[32m      5\u001b[39m \u001b[43m    \u001b[49m\u001b[43mcontext_map\u001b[49m\u001b[43m=\u001b[49m\u001b[38;5;28;43;01mTrue\u001b[39;49;00m\u001b[43m,\u001b[49m\n\u001b[32m      6\u001b[39m \u001b[43m    \u001b[49m\u001b[43mcache_path\u001b[49m\u001b[43m=\u001b[49m\u001b[43mos\u001b[49m\u001b[43m.\u001b[49m\u001b[43mpath\u001b[49m\u001b[43m.\u001b[49m\u001b[43mjoin\u001b[49m\u001b[43m(\u001b[49m\u001b[43mdata_path\u001b[49m\u001b[43m,\u001b[49m\u001b[43m \u001b[49m\u001b[33;43m\"\u001b[39;49m\u001b[33;43mcache/cache.pkl\u001b[39;49m\u001b[33;43m\"\u001b[39;49m\u001b[43m)\u001b[49m\u001b[43m,\u001b[49m\n\u001b[32m      7\u001b[39m \u001b[43m)\u001b[49m\n",
      "\u001b[36mCell\u001b[39m\u001b[36m \u001b[39m\u001b[32mIn[4]\u001b[39m\u001b[32m, line 64\u001b[39m, in \u001b[36mrun_plot_DD\u001b[39m\u001b[34m(start_dates, coordinates, target_species, historical_data_buffer, cache_path, context_map, save_output, all_historical, force_prediction)\u001b[39m\n\u001b[32m     62\u001b[39m \u001b[38;5;28;01mif\u001b[39;00m all_historical:\n\u001b[32m     63\u001b[39m     \u001b[38;5;28;01mtry\u001b[39;00m:\n\u001b[32m---> \u001b[39m\u001b[32m64\u001b[39m         \u001b[38;5;28;01mreturn\u001b[39;00m \u001b[43mall_historical_model_run\u001b[49m\u001b[43m(\u001b[49m\n\u001b[32m     65\u001b[39m \u001b[43m            \u001b[49m\u001b[43mcoordinates\u001b[49m\u001b[43m,\u001b[49m\n\u001b[32m     66\u001b[39m \u001b[43m            \u001b[49m\u001b[43mstart_dates\u001b[49m\u001b[43m,\u001b[49m\n\u001b[32m     67\u001b[39m \u001b[43m            \u001b[49m\u001b[43mfly_params\u001b[49m\u001b[43m,\u001b[49m\n\u001b[32m     68\u001b[39m \u001b[43m            \u001b[49m\u001b[43mn_days_data\u001b[49m\u001b[43m,\u001b[49m\n\u001b[32m     69\u001b[39m \u001b[43m            \u001b[49m\u001b[43mcache_path\u001b[49m\u001b[43m,\u001b[49m\n\u001b[32m     70\u001b[39m \u001b[43m            \u001b[49m\u001b[43mcontext_map\u001b[49m\u001b[43m,\u001b[49m\n\u001b[32m     71\u001b[39m \u001b[43m        \u001b[49m\u001b[43m)\u001b[49m\n\u001b[32m     72\u001b[39m     \u001b[38;5;28;01mexcept\u001b[39;00m PredictionNeededError:\n\u001b[32m     73\u001b[39m         all_historical = \u001b[38;5;28;01mFalse\u001b[39;00m\n",
      "\u001b[36mFile \u001b[39m\u001b[32m~/Desktop/CIPM/FruitFlyPheno/utils/simulations.py:265\u001b[39m, in \u001b[36mall_historical_model_run\u001b[39m\u001b[34m(coordinates, start_dates, fly_params, historical_data_buffer, cache_path, context_map, retry_count)\u001b[39m\n\u001b[32m    262\u001b[39m         raw_PRISM = pickle.load(cache_file)\n\u001b[32m    263\u001b[39m \u001b[38;5;28;01melse\u001b[39;00m:\n\u001b[32m    264\u001b[39m     \u001b[38;5;66;03m# Fetch historical data\u001b[39;00m\n\u001b[32m--> \u001b[39m\u001b[32m265\u001b[39m     raw_PRISM = \u001b[43mfetch_ncss_data\u001b[49m\u001b[43m(\u001b[49m\n\u001b[32m    266\u001b[39m \u001b[43m        \u001b[49m\u001b[43mstart_date\u001b[49m\u001b[43m=\u001b[49m\u001b[43mfirst_date_str\u001b[49m\u001b[43m,\u001b[49m\u001b[43m \u001b[49m\u001b[43mn_days\u001b[49m\u001b[43m=\u001b[49m\u001b[43mn_days_data\u001b[49m\u001b[43m,\u001b[49m\u001b[43m \u001b[49m\u001b[43mbbox\u001b[49m\u001b[43m=\u001b[49m\u001b[43mcoordinates_bbox\u001b[49m\n\u001b[32m    267\u001b[39m \u001b[43m    \u001b[49m\u001b[43m)\u001b[49m\n\u001b[32m    269\u001b[39m     \u001b[38;5;66;03m# Save fetched data to cache\u001b[39;00m\n\u001b[32m    270\u001b[39m     \u001b[38;5;28;01mif\u001b[39;00m cache_path:\n",
      "\u001b[36mFile \u001b[39m\u001b[32m~/Desktop/CIPM/FruitFlyPheno/utils/inputs.py:62\u001b[39m, in \u001b[36mfetch_ncss_data\u001b[39m\u001b[34m(start_date, n_days, bbox, variables, point, base_url)\u001b[39m\n\u001b[32m     48\u001b[39m \u001b[38;5;250m\u001b[39m\u001b[33;03m\"\"\"\u001b[39;00m\n\u001b[32m     49\u001b[39m \u001b[33;03mFetch data from a THREDDS server using NCSS and collect it into an xarray Dataset.\u001b[39;00m\n\u001b[32m     50\u001b[39m \n\u001b[32m   (...)\u001b[39m\u001b[32m     59\u001b[39m \u001b[33;03m- xarray.Dataset containing the requested data\u001b[39;00m\n\u001b[32m     60\u001b[39m \u001b[33;03m\"\"\"\u001b[39;00m\n\u001b[32m     61\u001b[39m \u001b[38;5;66;03m# Convert start_date to datetime\u001b[39;00m\n\u001b[32m---> \u001b[39m\u001b[32m62\u001b[39m start_date = \u001b[43mstart_date\u001b[49m\u001b[43m.\u001b[49m\u001b[43mstrptime\u001b[49m(start_date, \u001b[33m\"\u001b[39m\u001b[33m%\u001b[39m\u001b[33mY-\u001b[39m\u001b[33m%\u001b[39m\u001b[33mm-\u001b[39m\u001b[38;5;132;01m%d\u001b[39;00m\u001b[33m\"\u001b[39m)\n\u001b[32m     64\u001b[39m \u001b[38;5;66;03m# Calculate end_date\u001b[39;00m\n\u001b[32m     65\u001b[39m \u001b[38;5;28;01mif\u001b[39;00m n_days \u001b[38;5;129;01mis\u001b[39;00m \u001b[38;5;28;01mNone\u001b[39;00m:\n",
      "\u001b[31mAttributeError\u001b[39m: 'str' object has no attribute 'strptime'"
     ]
    }
   ],
   "source": [
    "run_plot_DD(\n",
    "    [pd.to_datetime(\"2002-01-01\")],\n",
    "    [(34.63115, -117.338321)],\n",
    "    \"Mexfly\",\n",
    "    context_map=True,\n",
    "    cache_path=os.path.join(data_path, \"cache/cache.pkl\"),\n",
    ")"
   ]
  },
  {
   "cell_type": "code",
   "execution_count": null,
   "metadata": {},
   "outputs": [
    {
     "ename": "NameError",
     "evalue": "name 'run_plot_DD' is not defined",
     "output_type": "error",
     "traceback": [
      "\u001b[0;31m---------------------------------------------------------------------------\u001b[0m",
      "\u001b[0;31mNameError\u001b[0m                                 Traceback (most recent call last)",
      "Cell \u001b[0;32mIn[2], line 1\u001b[0m\n\u001b[0;32m----> 1\u001b[0m \u001b[43mrun_plot_DD\u001b[49m(\n\u001b[1;32m      2\u001b[0m     [pd\u001b[38;5;241m.\u001b[39mto_datetime(\u001b[38;5;124m\"\u001b[39m\u001b[38;5;124m2002-01-01\u001b[39m\u001b[38;5;124m\"\u001b[39m)],\n\u001b[1;32m      3\u001b[0m     [(\u001b[38;5;241m34.63115\u001b[39m, \u001b[38;5;241m-\u001b[39m\u001b[38;5;241m117.338321\u001b[39m)],\n\u001b[1;32m      4\u001b[0m     \u001b[38;5;124m\"\u001b[39m\u001b[38;5;124mMexfly\u001b[39m\u001b[38;5;124m\"\u001b[39m,\n\u001b[1;32m      5\u001b[0m )\n",
      "\u001b[0;31mNameError\u001b[0m: name 'run_plot_DD' is not defined"
     ]
    }
   ],
   "source": [
    "run_plot_DD(\n",
    "    [pd.to_datetime(\"2002-01-01\")],\n",
    "    [(34.63115, -117.338321)],\n",
    "    \"Mexfly\",\n",
    ")"
   ]
  },
  {
   "cell_type": "markdown",
   "metadata": {},
   "source": [
    "run_plot_DD(\n",
    "    [pd.to_datetime(\"2002-01-01\")],\n",
    "    [(34.63115, -117.338321)],\n",
    "    \"Mexfly\",\n",
    "    context_map=False,\n",
    ")\n",
    "run_plot_DD(\n",
    "    [pd.to_datetime(\"2002-01-01\")],\n",
    "    [(34.63115, -117.338321)],\n",
    "    \"Mexfly\",\n",
    "    context_map=True,\n",
    ")\n",
    "### Why is map not plotting?"
   ]
  },
  {
   "cell_type": "code",
   "execution_count": null,
   "metadata": {},
   "outputs": [
    {
     "data": {
      "text/plain": [
       "'\\nrun_plot_DD(\\n    [pd.to_datetime(\"2002-01-01\")],\\n    [(34.63115, -117.338321)],\\n    \"Mexfly\",\\n\\n\\nrun_plot_DD(\\n    [pd.to_datetime(\"2002-01-01\"), pd.to_datetime(\"2002-05-01\")],\\n    [(34.63115, -117.338321), (34.68115, -117.336321)],\\n    \"Mexfly\",\\n)\\n'"
      ]
     },
     "execution_count": 8,
     "metadata": {},
     "output_type": "execute_result"
    }
   ],
   "source": [
    "# test statements\n",
    "\"\"\"\n",
    "run_plot_DD(\n",
    "    [pd.to_datetime(\"2002-01-01\")],\n",
    "    [(34.63115, -117.338321)],\n",
    "    \"Mexfly\",\n",
    "\n",
    "\n",
    "run_plot_DD(\n",
    "    [pd.to_datetime(\"2002-01-01\"), pd.to_datetime(\"2002-05-01\")],\n",
    "    [(34.63115, -117.338321), (34.68115, -117.336321)],\n",
    "    \"Mexfly\",\n",
    ")\n",
    "\"\"\""
   ]
  },
  {
   "cell_type": "code",
   "execution_count": null,
   "metadata": {},
   "outputs": [
    {
     "name": "stdout",
     "output_type": "stream",
     "text": [
      "NCSS data saved to cache/pred_cache.pkl\n"
     ]
    }
   ],
   "source": [
    "import os\n",
    "\n",
    "\n",
    "# Parameters\n",
    "start_date = \"2020-01-01\"\n",
    "bbox = (-117.63832099999999, -117.038321, 34.33115, 34.931149999999995)\n",
    "cache_path = \"cache/pred_cache.pkl\"\n",
    "\n",
    "# Ensure the cache directory exists\n",
    "os.makedirs(os.path.dirname(cache_path), exist_ok=True)\n",
    "\n",
    "# Fetch the data\n",
    "ncss_data = fetch_ncss_data(start_date=start_date, bbox=bbox)\n",
    "\n",
    "# Save the data to the cache\n",
    "with open(cache_path, \"wb\") as cache_file:\n",
    "    pickle.dump(ncss_data, cache_file)\n",
    "\n",
    "print(f\"NCSS data saved to {cache_path}\")"
   ]
  }
 ],
 "metadata": {
  "kernelspec": {
   "display_name": ".venv",
   "language": "python",
   "name": "python3"
  },
  "language_info": {
   "codemirror_mode": {
    "name": "ipython",
    "version": 3
   },
   "file_extension": ".py",
   "mimetype": "text/x-python",
   "name": "python",
   "nbconvert_exporter": "python",
   "pygments_lexer": "ipython3",
   "version": "3.12.4"
  }
 },
 "nbformat": 4,
 "nbformat_minor": 2
}
